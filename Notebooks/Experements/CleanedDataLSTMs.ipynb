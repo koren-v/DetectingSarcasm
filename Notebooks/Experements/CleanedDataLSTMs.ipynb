{
  "nbformat": 4,
  "nbformat_minor": 0,
  "metadata": {
    "colab": {
      "name": "CleanedDataLSTMs.ipynb",
      "provenance": [],
      "collapsed_sections": []
    },
    "kernelspec": {
      "name": "python3",
      "display_name": "Python 3"
    },
    "accelerator": "GPU"
  },
  "cells": [
    {
      "cell_type": "code",
      "metadata": {
        "id": "f3ny_uo3NCPh",
        "colab_type": "code",
        "outputId": "2160c15e-0751-4324-8fda-529627470cd3",
        "colab": {
          "base_uri": "https://localhost:8080/",
          "height": 125
        }
      },
      "source": [
        "from google.colab import drive\n",
        "drive.mount('/content/drive')"
      ],
      "execution_count": 0,
      "outputs": [
        {
          "output_type": "stream",
          "text": [
            "Go to this URL in a browser: https://accounts.google.com/o/oauth2/auth?client_id=947318989803-6bn6qk8qdgf4n4g3pfee6491hc0brc4i.apps.googleusercontent.com&redirect_uri=urn%3aietf%3awg%3aoauth%3a2.0%3aoob&response_type=code&scope=email%20https%3a%2f%2fwww.googleapis.com%2fauth%2fdocs.test%20https%3a%2f%2fwww.googleapis.com%2fauth%2fdrive%20https%3a%2f%2fwww.googleapis.com%2fauth%2fdrive.photos.readonly%20https%3a%2f%2fwww.googleapis.com%2fauth%2fpeopleapi.readonly\n",
            "\n",
            "Enter your authorization code:\n",
            "··········\n",
            "Mounted at /content/drive\n"
          ],
          "name": "stdout"
        }
      ]
    },
    {
      "cell_type": "code",
      "metadata": {
        "id": "DWqcF4HMNEeg",
        "colab_type": "code",
        "outputId": "5f5aca28-03d8-411c-bba3-9c71fc76f449",
        "colab": {
          "base_uri": "https://localhost:8080/",
          "height": 301
        }
      },
      "source": [
        "!cp -avr /content/drive/'My Drive'/DetectingSarcasm ."
      ],
      "execution_count": 0,
      "outputs": [
        {
          "output_type": "stream",
          "text": [
            "'/content/drive/My Drive/DetectingSarcasm' -> './DetectingSarcasm'\n",
            "'/content/drive/My Drive/DetectingSarcasm/Models' -> './DetectingSarcasm/Models'\n",
            "'/content/drive/My Drive/DetectingSarcasm/Models/LSTM2DMaxPool.py' -> './DetectingSarcasm/Models/LSTM2DMaxPool.py'\n",
            "'/content/drive/My Drive/DetectingSarcasm/Models/AttantionLSTM.py' -> './DetectingSarcasm/Models/AttantionLSTM.py'\n",
            "'/content/drive/My Drive/DetectingSarcasm/Models/BidirectionalLSTM.py' -> './DetectingSarcasm/Models/BidirectionalLSTM.py'\n",
            "'/content/drive/My Drive/DetectingSarcasm/Models/LSTM.py' -> './DetectingSarcasm/Models/LSTM.py'\n",
            "'/content/drive/My Drive/DetectingSarcasm/Models/Weights' -> './DetectingSarcasm/Models/Weights'\n",
            "'/content/drive/My Drive/DetectingSarcasm/Notebooks' -> './DetectingSarcasm/Notebooks'\n",
            "'/content/drive/My Drive/DetectingSarcasm/Notebooks/LSTMs.ipynb' -> './DetectingSarcasm/Notebooks/LSTMs.ipynb'\n",
            "'/content/drive/My Drive/DetectingSarcasm/Notebooks/BERT.ipynb' -> './DetectingSarcasm/Notebooks/BERT.ipynb'\n",
            "'/content/drive/My Drive/DetectingSarcasm/Notebooks/Weights' -> './DetectingSarcasm/Notebooks/Weights'\n",
            "'/content/drive/My Drive/DetectingSarcasm/Notebooks/Experements' -> './DetectingSarcasm/Notebooks/Experements'\n",
            "'/content/drive/My Drive/DetectingSarcasm/Notebooks/Experements/TuneLSTMs.ipynb' -> './DetectingSarcasm/Notebooks/Experements/TuneLSTMs.ipynb'\n",
            "'/content/drive/My Drive/DetectingSarcasm/Notebooks/Experements/CleanedDataLSTMs.ipynb' -> './DetectingSarcasm/Notebooks/Experements/CleanedDataLSTMs.ipynb'\n",
            "'/content/drive/My Drive/DetectingSarcasm/Data' -> './DetectingSarcasm/Data'\n",
            "'/content/drive/My Drive/DetectingSarcasm/Data/Sarcasm_Headlines_Dataset_v2.json' -> './DetectingSarcasm/Data/Sarcasm_Headlines_Dataset_v2.json'\n"
          ],
          "name": "stdout"
        }
      ]
    },
    {
      "cell_type": "code",
      "metadata": {
        "id": "gM-aFa5BNGjP",
        "colab_type": "code",
        "outputId": "7b63fad8-8428-4332-8235-2d034561a38d",
        "colab": {
          "base_uri": "https://localhost:8080/",
          "height": 34
        }
      },
      "source": [
        "%cd DetectingSarcasm/Notebooks/Experements"
      ],
      "execution_count": 0,
      "outputs": [
        {
          "output_type": "stream",
          "text": [
            "/content/DetectingSarcasm/Notebooks/Experements\n"
          ],
          "name": "stdout"
        }
      ]
    },
    {
      "cell_type": "code",
      "metadata": {
        "id": "wO0BjsB4NGe-",
        "colab_type": "code",
        "outputId": "8fc4b2a7-88e8-42e8-b7e6-db75f0d06c0d",
        "colab": {
          "base_uri": "https://localhost:8080/",
          "height": 34
        }
      },
      "source": [
        "!ls"
      ],
      "execution_count": 0,
      "outputs": [
        {
          "output_type": "stream",
          "text": [
            "CleanedDataLSTMs.ipynb\tTuneLSTMs.ipynb\n"
          ],
          "name": "stdout"
        }
      ]
    },
    {
      "cell_type": "code",
      "metadata": {
        "id": "YMWR3GsBNKVM",
        "colab_type": "code",
        "colab": {}
      },
      "source": [
        "import sys\n",
        "sys.path.append('../../Models')\n",
        "sys.path.append('../')"
      ],
      "execution_count": 0,
      "outputs": []
    },
    {
      "cell_type": "code",
      "metadata": {
        "id": "9Q0B2v8U4Sq7",
        "colab_type": "code",
        "colab": {}
      },
      "source": [
        "import torch\n",
        "from torchtext import data\n",
        "\n",
        "import pandas as pd\n",
        "import numpy as np\n",
        "import torch.optim as optim\n",
        "import torch.nn.functional as F\n",
        "\n",
        "import spacy\n",
        "\n",
        "import time\n",
        "import copy\n",
        "from torch.optim import lr_scheduler\n",
        "\n",
        "from torchtext.vocab import Vectors, GloVe\n",
        "from sklearn.model_selection import train_test_split\n",
        "import matplotlib.pyplot as plt\n",
        "\n",
        "import nltk\n",
        "\n",
        "from utils import *"
      ],
      "execution_count": 0,
      "outputs": []
    },
    {
      "cell_type": "markdown",
      "metadata": {
        "id": "yg-CioKO5Jqc",
        "colab_type": "text"
      },
      "source": [
        "Let's look at our dataset:"
      ]
    },
    {
      "cell_type": "code",
      "metadata": {
        "id": "RXiJAQcG4wRK",
        "colab_type": "code",
        "outputId": "afaab5e7-85ec-41ac-bc40-dc40a3475388",
        "colab": {
          "base_uri": "https://localhost:8080/",
          "height": 197
        }
      },
      "source": [
        "df = pd.read_json(\"../../Data/Sarcasm_Headlines_Dataset_v2.json\", lines=True)\n",
        "df.head()"
      ],
      "execution_count": 0,
      "outputs": [
        {
          "output_type": "execute_result",
          "data": {
            "text/html": [
              "<div>\n",
              "<style scoped>\n",
              "    .dataframe tbody tr th:only-of-type {\n",
              "        vertical-align: middle;\n",
              "    }\n",
              "\n",
              "    .dataframe tbody tr th {\n",
              "        vertical-align: top;\n",
              "    }\n",
              "\n",
              "    .dataframe thead th {\n",
              "        text-align: right;\n",
              "    }\n",
              "</style>\n",
              "<table border=\"1\" class=\"dataframe\">\n",
              "  <thead>\n",
              "    <tr style=\"text-align: right;\">\n",
              "      <th></th>\n",
              "      <th>is_sarcastic</th>\n",
              "      <th>headline</th>\n",
              "      <th>article_link</th>\n",
              "    </tr>\n",
              "  </thead>\n",
              "  <tbody>\n",
              "    <tr>\n",
              "      <th>0</th>\n",
              "      <td>1</td>\n",
              "      <td>thirtysomething scientists unveil doomsday clo...</td>\n",
              "      <td>https://www.theonion.com/thirtysomething-scien...</td>\n",
              "    </tr>\n",
              "    <tr>\n",
              "      <th>1</th>\n",
              "      <td>0</td>\n",
              "      <td>dem rep. totally nails why congress is falling...</td>\n",
              "      <td>https://www.huffingtonpost.com/entry/donna-edw...</td>\n",
              "    </tr>\n",
              "    <tr>\n",
              "      <th>2</th>\n",
              "      <td>0</td>\n",
              "      <td>eat your veggies: 9 deliciously different recipes</td>\n",
              "      <td>https://www.huffingtonpost.com/entry/eat-your-...</td>\n",
              "    </tr>\n",
              "    <tr>\n",
              "      <th>3</th>\n",
              "      <td>1</td>\n",
              "      <td>inclement weather prevents liar from getting t...</td>\n",
              "      <td>https://local.theonion.com/inclement-weather-p...</td>\n",
              "    </tr>\n",
              "    <tr>\n",
              "      <th>4</th>\n",
              "      <td>1</td>\n",
              "      <td>mother comes pretty close to using word 'strea...</td>\n",
              "      <td>https://www.theonion.com/mother-comes-pretty-c...</td>\n",
              "    </tr>\n",
              "  </tbody>\n",
              "</table>\n",
              "</div>"
            ],
            "text/plain": [
              "   is_sarcastic  ...                                       article_link\n",
              "0             1  ...  https://www.theonion.com/thirtysomething-scien...\n",
              "1             0  ...  https://www.huffingtonpost.com/entry/donna-edw...\n",
              "2             0  ...  https://www.huffingtonpost.com/entry/eat-your-...\n",
              "3             1  ...  https://local.theonion.com/inclement-weather-p...\n",
              "4             1  ...  https://www.theonion.com/mother-comes-pretty-c...\n",
              "\n",
              "[5 rows x 3 columns]"
            ]
          },
          "metadata": {
            "tags": []
          },
          "execution_count": 9
        }
      ]
    },
    {
      "cell_type": "code",
      "metadata": {
        "id": "9yDFV-cddj4b",
        "colab_type": "code",
        "colab": {}
      },
      "source": [
        "headlines = df['headline'].str.lower().str.replace(\"[^a-z]\", \" \")"
      ],
      "execution_count": 0,
      "outputs": []
    },
    {
      "cell_type": "code",
      "metadata": {
        "id": "iijrU7j_e0wp",
        "colab_type": "code",
        "colab": {}
      },
      "source": [
        "headlines = headlines.apply(lambda headline: headline.split())"
      ],
      "execution_count": 0,
      "outputs": []
    },
    {
      "cell_type": "code",
      "metadata": {
        "id": "djEMk1jhfIKW",
        "colab_type": "code",
        "colab": {}
      },
      "source": [
        "nltk.download('stopwords')\n",
        "from nltk.corpus import stopwords \n",
        "stop_words = stopwords.words('english')\n",
        "\n",
        "nltk.download('wordnet')\n",
        "from nltk.stem import WordNetLemmatizer\n",
        "lem = WordNetLemmatizer()\n",
        "\n",
        "headlines = headlines.apply(lambda headline: [word for word in headline if word not in stop_words])"
      ],
      "execution_count": 0,
      "outputs": []
    },
    {
      "cell_type": "code",
      "metadata": {
        "id": "FtJxU2jWfmXQ",
        "colab_type": "code",
        "colab": {}
      },
      "source": [
        "detokenized_headlines = [] \n",
        "for i in range(len(headlines)): \n",
        "    t = ' '.join(headlines[i]) \n",
        "    detokenized_headlines.append(t) \n",
        "\n",
        "df['headline'] = detokenized_headlines"
      ],
      "execution_count": 0,
      "outputs": []
    },
    {
      "cell_type": "markdown",
      "metadata": {
        "id": "_F_i8LFI61f3",
        "colab_type": "text"
      },
      "source": [
        "Counting number of headlines with appropriate number of words:"
      ]
    },
    {
      "cell_type": "code",
      "metadata": {
        "id": "5OFiGOEH40Iy",
        "colab_type": "code",
        "outputId": "bd3394ec-68cb-403f-d74e-6de637aea2df",
        "colab": {
          "base_uri": "https://localhost:8080/",
          "height": 478
        }
      },
      "source": [
        "count = df['headline'].str.split().apply(len).value_counts()\n",
        "print(count)"
      ],
      "execution_count": 0,
      "outputs": [
        {
          "output_type": "stream",
          "text": [
            "7      4887\n",
            "8      4606\n",
            "6      4251\n",
            "9      3507\n",
            "5      3240\n",
            "10     2181\n",
            "4      2031\n",
            "11     1186\n",
            "3      1096\n",
            "12      584\n",
            "2       481\n",
            "13      290\n",
            "14      132\n",
            "15       55\n",
            "1        53\n",
            "16       14\n",
            "17       11\n",
            "18        4\n",
            "24        2\n",
            "19        2\n",
            "0         2\n",
            "22        1\n",
            "30        1\n",
            "25        1\n",
            "107       1\n",
            "Name: headline, dtype: int64\n"
          ],
          "name": "stdout"
        }
      ]
    },
    {
      "cell_type": "markdown",
      "metadata": {
        "id": "17Ra8NgX74_5",
        "colab_type": "text"
      },
      "source": [
        "We can see, that most part of headlines has less then 18 words. We will use this fact for choosing length of sequence.\n",
        "\n",
        "Dropping unusefull column:"
      ]
    },
    {
      "cell_type": "code",
      "metadata": {
        "id": "3KfmSwz35in0",
        "colab_type": "code",
        "outputId": "03a93f06-0d0c-4921-8963-cdb4d76e2a62",
        "colab": {
          "base_uri": "https://localhost:8080/",
          "height": 197
        }
      },
      "source": [
        "df = df.drop(['article_link'], axis=1)\n",
        "df.head()"
      ],
      "execution_count": 0,
      "outputs": [
        {
          "output_type": "execute_result",
          "data": {
            "text/html": [
              "<div>\n",
              "<style scoped>\n",
              "    .dataframe tbody tr th:only-of-type {\n",
              "        vertical-align: middle;\n",
              "    }\n",
              "\n",
              "    .dataframe tbody tr th {\n",
              "        vertical-align: top;\n",
              "    }\n",
              "\n",
              "    .dataframe thead th {\n",
              "        text-align: right;\n",
              "    }\n",
              "</style>\n",
              "<table border=\"1\" class=\"dataframe\">\n",
              "  <thead>\n",
              "    <tr style=\"text-align: right;\">\n",
              "      <th></th>\n",
              "      <th>is_sarcastic</th>\n",
              "      <th>headline</th>\n",
              "    </tr>\n",
              "  </thead>\n",
              "  <tbody>\n",
              "    <tr>\n",
              "      <th>0</th>\n",
              "      <td>1</td>\n",
              "      <td>thirtysomething scientists unveil doomsday clo...</td>\n",
              "    </tr>\n",
              "    <tr>\n",
              "      <th>1</th>\n",
              "      <td>0</td>\n",
              "      <td>dem rep totally nails congress falling short g...</td>\n",
              "    </tr>\n",
              "    <tr>\n",
              "      <th>2</th>\n",
              "      <td>0</td>\n",
              "      <td>eat veggies deliciously different recipes</td>\n",
              "    </tr>\n",
              "    <tr>\n",
              "      <th>3</th>\n",
              "      <td>1</td>\n",
              "      <td>inclement weather prevents liar getting work</td>\n",
              "    </tr>\n",
              "    <tr>\n",
              "      <th>4</th>\n",
              "      <td>1</td>\n",
              "      <td>mother comes pretty close using word streaming...</td>\n",
              "    </tr>\n",
              "  </tbody>\n",
              "</table>\n",
              "</div>"
            ],
            "text/plain": [
              "   is_sarcastic                                           headline\n",
              "0             1  thirtysomething scientists unveil doomsday clo...\n",
              "1             0  dem rep totally nails congress falling short g...\n",
              "2             0          eat veggies deliciously different recipes\n",
              "3             1       inclement weather prevents liar getting work\n",
              "4             1  mother comes pretty close using word streaming..."
            ]
          },
          "metadata": {
            "tags": []
          },
          "execution_count": 15
        }
      ]
    },
    {
      "cell_type": "code",
      "metadata": {
        "id": "1I2Efz127_x9",
        "colab_type": "code",
        "colab": {}
      },
      "source": [
        "X = df['headline']\n",
        "y = df['is_sarcastic']"
      ],
      "execution_count": 0,
      "outputs": []
    },
    {
      "cell_type": "code",
      "metadata": {
        "id": "QbIDzEg88hh3",
        "colab_type": "code",
        "colab": {}
      },
      "source": [
        "!mkdir torchtext_data"
      ],
      "execution_count": 0,
      "outputs": []
    },
    {
      "cell_type": "markdown",
      "metadata": {
        "id": "bVLKjX6s8mt6",
        "colab_type": "text"
      },
      "source": [
        "Loading test and train sets to csv:"
      ]
    },
    {
      "cell_type": "markdown",
      "metadata": {
        "id": "c3k_QAjY8NfS",
        "colab_type": "text"
      },
      "source": [
        "We will use 20% of dataset as test set."
      ]
    },
    {
      "cell_type": "code",
      "metadata": {
        "id": "9KFBKn9T8c9B",
        "colab_type": "code",
        "colab": {}
      },
      "source": [
        "split_and_save(text, target, test_size=0.2)"
      ],
      "execution_count": 0,
      "outputs": []
    },
    {
      "cell_type": "markdown",
      "metadata": {
        "id": "T29G95Ve-T7a",
        "colab_type": "text"
      },
      "source": [
        "Preparing the data:"
      ]
    },
    {
      "cell_type": "code",
      "metadata": {
        "id": "vcjqovOR9hvZ",
        "colab_type": "code",
        "colab": {}
      },
      "source": [
        "device = torch.device('cuda' if torch.cuda.is_available() else 'cpu')"
      ],
      "execution_count": 0,
      "outputs": []
    },
    {
      "cell_type": "code",
      "metadata": {
        "id": "RJGcqHhW84QM",
        "colab_type": "code",
        "colab": {}
      },
      "source": [
        "fix_length = 24\n",
        "TEXT = data.Field(sequential=True, tokenize=\"spacy\", fix_length=fix_length)\n",
        "LABEL = data.LabelField(dtype=torch.long, sequential=False)"
      ],
      "execution_count": 0,
      "outputs": []
    },
    {
      "cell_type": "code",
      "metadata": {
        "id": "t-01tlYZ-Mn1",
        "colab_type": "code",
        "colab": {}
      },
      "source": [
        "train_data, test_data = data.TabularDataset.splits(\n",
        "    path=\"torchtext_data/\", train=\"train.csv\", \n",
        "    test=\"test.csv\",format=\"csv\", skip_header=True, \n",
        "    fields=[('Text', TEXT), ('Label', LABEL)]\n",
        ")"
      ],
      "execution_count": 0,
      "outputs": []
    },
    {
      "cell_type": "code",
      "metadata": {
        "id": "GwhDW7py_VU1",
        "colab_type": "code",
        "colab": {}
      },
      "source": [
        "batch_size = 16\n",
        "\n",
        "train_iterator, test_iterator = data.BucketIterator.splits(\n",
        "    (train_data, test_data), sort_key=lambda x: len(x.Text),\n",
        "    batch_size=batch_size,\n",
        "    device=device)"
      ],
      "execution_count": 0,
      "outputs": []
    },
    {
      "cell_type": "code",
      "metadata": {
        "id": "sAa5idER-cn_",
        "colab_type": "code",
        "outputId": "be54e14b-fc3b-4604-f856-dbbc695e73d5",
        "colab": {
          "base_uri": "https://localhost:8080/",
          "height": 52
        }
      },
      "source": [
        "print(f'Number of training examples: {len(train_data)}')\n",
        "print(f'Number of testing examples: {len(test_data)}')"
      ],
      "execution_count": 0,
      "outputs": [
        {
          "output_type": "stream",
          "text": [
            "Number of training examples: 22895\n",
            "Number of testing examples: 5724\n"
          ],
          "name": "stdout"
        }
      ]
    },
    {
      "cell_type": "markdown",
      "metadata": {
        "id": "3woO5khX-rjD",
        "colab_type": "text"
      },
      "source": [
        "Making vocabluary with GloVe with dimantion of 300:"
      ]
    },
    {
      "cell_type": "code",
      "metadata": {
        "id": "_pZltSV3-nQ5",
        "colab_type": "code",
        "outputId": "8d4a5759-94cb-4cd1-ccd9-5c190d903b70",
        "colab": {
          "base_uri": "https://localhost:8080/",
          "height": 52
        }
      },
      "source": [
        "TEXT.build_vocab(train_data, vectors=GloVe(name='6B', dim=300))\n",
        "LABEL.build_vocab(train_data)"
      ],
      "execution_count": 0,
      "outputs": [
        {
          "output_type": "stream",
          "text": [
            ".vector_cache/glove.6B.zip: 862MB [06:31, 2.20MB/s]                           \n",
            "100%|█████████▉| 399807/400000 [00:34<00:00, 11679.14it/s]"
          ],
          "name": "stderr"
        }
      ]
    },
    {
      "cell_type": "code",
      "metadata": {
        "id": "rDLwbpyU_osm",
        "colab_type": "code",
        "colab": {}
      },
      "source": [
        "word_embeddings = TEXT.vocab.vectors\n",
        "output_size = 2 #two classes\n",
        "num_layers = 1\n",
        "hidden_size = 64 #num of units in our NN\n",
        "embedding_length = 300 #dim of GloVe vector\n",
        "vocab_size = len(TEXT.vocab)"
      ],
      "execution_count": 0,
      "outputs": []
    },
    {
      "cell_type": "markdown",
      "metadata": {
        "id": "5ls7JtFSAHn6",
        "colab_type": "text"
      },
      "source": [
        "Defining the model:\n",
        "\n",
        "\n",
        "*   Simple LSTM - LSTMClassifier class \n",
        "*   LSTM with Attanrion - AttantionLSTMClassifier class \n",
        "*   Bidirectional LSTM - BidirectionalLSTMClassifier class\n",
        "*   Bidirectional LSTM with 2D MaxPool layer - LSTM2DMaxPoolClassifier class\n",
        "\n",
        "\n",
        "\n"
      ]
    },
    {
      "cell_type": "code",
      "metadata": {
        "id": "bHJZubbrBd7S",
        "colab_type": "code",
        "colab": {}
      },
      "source": [
        "from LSTM import *"
      ],
      "execution_count": 0,
      "outputs": []
    },
    {
      "cell_type": "code",
      "metadata": {
        "id": "1XIX2fK7AFKW",
        "colab_type": "code",
        "colab": {}
      },
      "source": [
        "model = LSTMClassifier(batch_size, output_size, hidden_size, vocab_size, embedding_length, num_layers, word_embeddings)"
      ],
      "execution_count": 0,
      "outputs": []
    },
    {
      "cell_type": "code",
      "metadata": {
        "id": "uiv6zysuCgtT",
        "colab_type": "code",
        "colab": {}
      },
      "source": [
        "optimizer = optim.Adam(model.parameters(), lr=0.000551837, weight_decay=9.72328e-05)\n",
        "criterion = nn.CrossEntropyLoss()"
      ],
      "execution_count": 0,
      "outputs": []
    },
    {
      "cell_type": "code",
      "metadata": {
        "id": "UQPqdzMnCp1c",
        "colab_type": "code",
        "colab": {}
      },
      "source": [
        "model = model.to(device)\n",
        "criterion = criterion.to(device)"
      ],
      "execution_count": 0,
      "outputs": []
    },
    {
      "cell_type": "code",
      "metadata": {
        "id": "g5xutdQXCwsH",
        "colab_type": "code",
        "colab": {}
      },
      "source": [
        "dataiter_dict = {'train': train_iterator, 'val': test_iterator}\n",
        "dataset_sizes = {'train':len(train_data), 'val':len(test_data)}"
      ],
      "execution_count": 0,
      "outputs": []
    },
    {
      "cell_type": "markdown",
      "metadata": {
        "id": "m7aFQTvSDekB",
        "colab_type": "text"
      },
      "source": [
        "Train model:"
      ]
    },
    {
      "cell_type": "code",
      "metadata": {
        "id": "Ov772HfUDb93",
        "colab_type": "code",
        "outputId": "b0232c44-c1bd-4150-c2b2-ad56d4474412",
        "colab": {
          "base_uri": "https://localhost:8080/",
          "height": 1000
        }
      },
      "source": [
        "model_fit, res = train_model(model,\n",
        "                             criterion,\n",
        "                             optimizer,\n",
        "                             scheduler = None,\n",
        "                             dataiter_dict = dataiter_dict,\n",
        "                             dataset_sizes = dataset_sizes,\n",
        "                             batch_size = batch_size,\n",
        "                             num_epochs=20)"
      ],
      "execution_count": 0,
      "outputs": [
        {
          "output_type": "stream",
          "text": [
            "starting\n",
            "Epoch 1/20\n",
            "----------\n",
            "train total loss: 1.0063 \n",
            "train sentiment_acc: 0.5862\n",
            "val total loss: 0.9365 \n",
            "val sentiment_acc: 0.6763\n",
            "saving with loss of 0.9364891635796809 improved over previous 200\n",
            "\n",
            "Epoch 2/20\n",
            "----------\n",
            "train total loss: 0.8610 \n",
            "train sentiment_acc: 0.7247\n",
            "val total loss: 0.8133 \n",
            "val sentiment_acc: 0.7593\n",
            "saving with loss of 0.8132821590145679 improved over previous 0.9364891635796809\n",
            "\n",
            "Epoch 3/20\n",
            "----------\n",
            "train total loss: 0.8016 \n",
            "train sentiment_acc: 0.7654\n",
            "val total loss: 0.7862 \n",
            "val sentiment_acc: 0.7748\n",
            "saving with loss of 0.7862370917632145 improved over previous 0.8132821590145679\n",
            "\n",
            "Epoch 4/20\n",
            "----------\n",
            "train total loss: 0.7760 \n",
            "train sentiment_acc: 0.7849\n",
            "val total loss: 0.7819 \n",
            "val sentiment_acc: 0.7785\n",
            "saving with loss of 0.7818529218497766 improved over previous 0.7862370917632145\n",
            "\n",
            "Epoch 5/20\n",
            "----------\n",
            "train total loss: 0.7650 \n",
            "train sentiment_acc: 0.7938\n",
            "val total loss: 0.7736 \n",
            "val sentiment_acc: 0.7839\n",
            "saving with loss of 0.7736355444920138 improved over previous 0.7818529218497766\n",
            "\n",
            "Epoch 6/20\n",
            "----------\n",
            "train total loss: 0.7449 \n",
            "train sentiment_acc: 0.8091\n",
            "val total loss: 0.7751 \n",
            "val sentiment_acc: 0.7816\n",
            "\n",
            "Epoch 7/20\n",
            "----------\n",
            "train total loss: 0.7353 \n",
            "train sentiment_acc: 0.8153\n",
            "val total loss: 0.7642 \n",
            "val sentiment_acc: 0.7911\n",
            "saving with loss of 0.7642078332181247 improved over previous 0.7736355444920138\n",
            "\n",
            "Epoch 8/20\n",
            "----------\n",
            "train total loss: 0.7143 \n",
            "train sentiment_acc: 0.8314\n",
            "val total loss: 0.7935 \n",
            "val sentiment_acc: 0.7750\n",
            "\n",
            "Epoch 9/20\n",
            "----------\n",
            "train total loss: 0.7048 \n",
            "train sentiment_acc: 0.8386\n",
            "val total loss: 0.7623 \n",
            "val sentiment_acc: 0.7925\n",
            "saving with loss of 0.7622646985563842 improved over previous 0.7642078332181247\n",
            "\n",
            "Epoch 10/20\n",
            "----------\n",
            "train total loss: 0.6940 \n",
            "train sentiment_acc: 0.8445\n",
            "val total loss: 0.7647 \n",
            "val sentiment_acc: 0.7918\n",
            "\n",
            "Epoch 11/20\n",
            "----------\n",
            "train total loss: 0.6848 \n",
            "train sentiment_acc: 0.8525\n",
            "val total loss: 0.7635 \n",
            "val sentiment_acc: 0.7928\n",
            "\n",
            "Epoch 12/20\n",
            "----------\n",
            "train total loss: 0.6763 \n",
            "train sentiment_acc: 0.8588\n",
            "val total loss: 0.7645 \n",
            "val sentiment_acc: 0.7944\n",
            "\n",
            "Epoch 13/20\n",
            "----------\n",
            "train total loss: 0.6724 \n",
            "train sentiment_acc: 0.8617\n",
            "val total loss: 0.7694 \n",
            "val sentiment_acc: 0.7928\n",
            "\n",
            "Epoch 14/20\n",
            "----------\n",
            "train total loss: 0.6672 \n",
            "train sentiment_acc: 0.8647\n",
            "val total loss: 0.7638 \n",
            "val sentiment_acc: 0.7925\n",
            "\n",
            "Epoch 15/20\n",
            "----------\n",
            "train total loss: 0.6567 \n",
            "train sentiment_acc: 0.8726\n",
            "val total loss: 0.7909 \n",
            "val sentiment_acc: 0.7774\n",
            "\n",
            "Epoch 16/20\n",
            "----------\n",
            "train total loss: 0.6565 \n",
            "train sentiment_acc: 0.8736\n",
            "val total loss: 0.7929 \n",
            "val sentiment_acc: 0.7760\n",
            "\n",
            "Epoch 17/20\n",
            "----------\n",
            "train total loss: 0.6529 \n",
            "train sentiment_acc: 0.8745\n",
            "val total loss: 0.7655 \n",
            "val sentiment_acc: 0.7947\n",
            "\n",
            "Epoch 18/20\n",
            "----------\n",
            "train total loss: 0.6403 \n",
            "train sentiment_acc: 0.8841\n",
            "val total loss: 0.7572 \n",
            "val sentiment_acc: 0.8015\n",
            "saving with loss of 0.7572233364517084 improved over previous 0.7622646985563842\n",
            "\n",
            "Epoch 19/20\n",
            "----------\n",
            "train total loss: 0.6434 \n",
            "train sentiment_acc: 0.8818\n",
            "val total loss: 0.7597 \n",
            "val sentiment_acc: 0.7994\n",
            "\n",
            "Epoch 20/20\n",
            "----------\n",
            "train total loss: 0.6396 \n",
            "train sentiment_acc: 0.8850\n",
            "val total loss: 0.7611 \n",
            "val sentiment_acc: 0.7996\n",
            "recall 0.72\n",
            "\n",
            "Training complete in 2m 41s\n",
            "Best val loss: 0.757223\n"
          ],
          "name": "stdout"
        }
      ]
    },
    {
      "cell_type": "markdown",
      "metadata": {
        "id": "jtBwDDfRQ1s_",
        "colab_type": "text"
      },
      "source": [
        "As we can see, accuracy is much lower, so dataset is preprocessed enough."
      ]
    },
    {
      "cell_type": "markdown",
      "metadata": {
        "id": "tmTTqHSNIoHf",
        "colab_type": "text"
      },
      "source": [
        "Lets see at test and train accuracy plots:"
      ]
    },
    {
      "cell_type": "code",
      "metadata": {
        "id": "KTUH1-7qD4T9",
        "colab_type": "code",
        "outputId": "2604fb4f-488a-40a7-c1a8-85e630993a3a",
        "colab": {
          "base_uri": "https://localhost:8080/",
          "height": 278
        }
      },
      "source": [
        "plt.plot(res['train_acc'], label = 'Train Accuracy')\n",
        "plt.plot(res['val_acc'], label = 'Test Accuracy')\n",
        "plt.xlabel('Epoch')\n",
        "plt.legend()\n",
        "plt.show()"
      ],
      "execution_count": 0,
      "outputs": [
        {
          "output_type": "display_data",
          "data": {
            "image/png": "[encoded data removed]",
            "text/plain": [
              "<Figure size 432x288 with 1 Axes>"
            ]
          },
          "metadata": {
            "tags": []
          }
        }
      ]
    },
    {
      "cell_type": "code",
      "metadata": {
        "id": "VkHeVcgDMU5v",
        "colab_type": "code",
        "colab": {}
      },
      "source": [
        ""
      ],
      "execution_count": 0,
      "outputs": []
    }
  ]
}