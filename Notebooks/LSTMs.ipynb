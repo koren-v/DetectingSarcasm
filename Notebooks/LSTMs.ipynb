{
  "nbformat": 4,
  "nbformat_minor": 0,
  "metadata": {
    "colab": {
      "name": "LSTMs.ipynb",
      "provenance": [],
      "collapsed_sections": []
    },
    "kernelspec": {
      "name": "python3",
      "display_name": "Python 3"
    },
    "accelerator": "GPU"
  },
  "cells": [
    {
      "cell_type": "code",
      "metadata": {
        "id": "1TZLgnaoJ9OS",
        "colab_type": "code",
        "outputId": "9894066e-5511-44d8-b4db-fc804c3f4b2a",
        "colab": {
          "base_uri": "https://localhost:8080/",
          "height": 125
        }
      },
      "source": [
        "from google.colab import drive\n",
        "drive.mount('/content/drive')"
      ],
      "execution_count": 1,
      "outputs": [
        {
          "output_type": "stream",
          "text": [
            "Go to this URL in a browser: https://accounts.google.com/o/oauth2/auth?client_id=947318989803-6bn6qk8qdgf4n4g3pfee6491hc0brc4i.apps.googleusercontent.com&redirect_uri=urn%3aietf%3awg%3aoauth%3a2.0%3aoob&response_type=code&scope=email%20https%3a%2f%2fwww.googleapis.com%2fauth%2fdocs.test%20https%3a%2f%2fwww.googleapis.com%2fauth%2fdrive%20https%3a%2f%2fwww.googleapis.com%2fauth%2fdrive.photos.readonly%20https%3a%2f%2fwww.googleapis.com%2fauth%2fpeopleapi.readonly\n",
            "\n",
            "Enter your authorization code:\n",
            "··········\n",
            "Mounted at /content/drive\n"
          ],
          "name": "stdout"
        }
      ]
    },
    {
      "cell_type": "code",
      "metadata": {
        "id": "KpNXJwI5KCEJ",
        "colab_type": "code",
        "outputId": "e37bf8d9-61a5-4b95-9af8-cb9a4d14582a",
        "colab": {
          "base_uri": "https://localhost:8080/",
          "height": 285
        }
      },
      "source": [
        "!cp -avr /content/drive/'My Drive'/DetectingSarcasm ."
      ],
      "execution_count": 2,
      "outputs": [
        {
          "output_type": "stream",
          "text": [
            "'/content/drive/My Drive/DetectingSarcasm' -> './DetectingSarcasm'\n",
            "'/content/drive/My Drive/DetectingSarcasm/Models' -> './DetectingSarcasm/Models'\n",
            "'/content/drive/My Drive/DetectingSarcasm/Models/LSTM2DMaxPool.py' -> './DetectingSarcasm/Models/LSTM2DMaxPool.py'\n",
            "'/content/drive/My Drive/DetectingSarcasm/Models/AttantionLSTM.py' -> './DetectingSarcasm/Models/AttantionLSTM.py'\n",
            "'/content/drive/My Drive/DetectingSarcasm/Models/BidirectionalLSTM.py' -> './DetectingSarcasm/Models/BidirectionalLSTM.py'\n",
            "'/content/drive/My Drive/DetectingSarcasm/Models/LSTM.py' -> './DetectingSarcasm/Models/LSTM.py'\n",
            "'/content/drive/My Drive/DetectingSarcasm/Notebooks' -> './DetectingSarcasm/Notebooks'\n",
            "'/content/drive/My Drive/DetectingSarcasm/Notebooks/TuneLSTMs.ipynb' -> './DetectingSarcasm/Notebooks/TuneLSTMs.ipynb'\n",
            "'/content/drive/My Drive/DetectingSarcasm/Notebooks/CleanedDataLSTMs.ipynb' -> './DetectingSarcasm/Notebooks/CleanedDataLSTMs.ipynb'\n",
            "'/content/drive/My Drive/DetectingSarcasm/Notebooks/LSTMs.ipynb' -> './DetectingSarcasm/Notebooks/LSTMs.ipynb'\n",
            "'/content/drive/My Drive/DetectingSarcasm/Notebooks/BERT.ipynb' -> './DetectingSarcasm/Notebooks/BERT.ipynb'\n",
            "'/content/drive/My Drive/DetectingSarcasm/Notebooks/Weights' -> './DetectingSarcasm/Notebooks/Weights'\n",
            "'/content/drive/My Drive/DetectingSarcasm/Data' -> './DetectingSarcasm/Data'\n",
            "'/content/drive/My Drive/DetectingSarcasm/Data/Sarcasm_Headlines_Dataset_v2.json' -> './DetectingSarcasm/Data/Sarcasm_Headlines_Dataset_v2.json'\n"
          ],
          "name": "stdout"
        }
      ]
    },
    {
      "cell_type": "code",
      "metadata": {
        "id": "h1m7ISXQKPm1",
        "colab_type": "code",
        "outputId": "83cd258c-ee8a-4eda-f430-28c2adc75d0e",
        "colab": {
          "base_uri": "https://localhost:8080/",
          "height": 34
        }
      },
      "source": [
        "%cd DetectingSarcasm/Notebooks"
      ],
      "execution_count": 3,
      "outputs": [
        {
          "output_type": "stream",
          "text": [
            "/content/DetectingSarcasm/Notebooks\n"
          ],
          "name": "stdout"
        }
      ]
    },
    {
      "cell_type": "code",
      "metadata": {
        "id": "wcL5kYXzKTk-",
        "colab_type": "code",
        "outputId": "e9eafcd4-62ad-40e7-c41b-d03260858232",
        "colab": {
          "base_uri": "https://localhost:8080/",
          "height": 34
        }
      },
      "source": [
        "!ls"
      ],
      "execution_count": 4,
      "outputs": [
        {
          "output_type": "stream",
          "text": [
            "BERT.ipynb  CleanedDataLSTMs.ipynb  LSTMs.ipynb  TuneLSTMs.ipynb  Weights\n"
          ],
          "name": "stdout"
        }
      ]
    },
    {
      "cell_type": "code",
      "metadata": {
        "id": "DeQV9fvC7sg9",
        "colab_type": "code",
        "colab": {}
      },
      "source": [
        "import sys\n",
        "sys.path.append('../Models')\n",
        "sys.path.append('../')"
      ],
      "execution_count": 0,
      "outputs": []
    },
    {
      "cell_type": "code",
      "metadata": {
        "id": "9Q0B2v8U4Sq7",
        "colab_type": "code",
        "colab": {}
      },
      "source": [
        "import torch\n",
        "from torchtext import data\n",
        "\n",
        "import pandas as pd\n",
        "import numpy as np\n",
        "import torch.optim as optim\n",
        "import torch.nn.functional as F\n",
        "\n",
        "import spacy\n",
        "\n",
        "import time\n",
        "import copy\n",
        "from torch.optim import lr_scheduler\n",
        "\n",
        "from torchtext.vocab import Vectors, GloVe\n",
        "from sklearn.model_selection import train_test_split\n",
        "import matplotlib.pyplot as plt\n"
      ],
      "execution_count": 0,
      "outputs": []
    },
    {
      "cell_type": "markdown",
      "metadata": {
        "id": "yg-CioKO5Jqc",
        "colab_type": "text"
      },
      "source": [
        "Let's look at our dataset:"
      ]
    },
    {
      "cell_type": "code",
      "metadata": {
        "id": "RXiJAQcG4wRK",
        "colab_type": "code",
        "outputId": "a6a60adf-0e22-412a-9776-0799f6353f6b",
        "colab": {
          "base_uri": "https://localhost:8080/",
          "height": 197
        }
      },
      "source": [
        "df = pd.read_json(\"../Data/Sarcasm_Headlines_Dataset_v2.json\", lines=True)\n",
        "df.head()"
      ],
      "execution_count": 7,
      "outputs": [
        {
          "output_type": "execute_result",
          "data": {
            "text/html": [
              "<div>\n",
              "<style scoped>\n",
              "    .dataframe tbody tr th:only-of-type {\n",
              "        vertical-align: middle;\n",
              "    }\n",
              "\n",
              "    .dataframe tbody tr th {\n",
              "        vertical-align: top;\n",
              "    }\n",
              "\n",
              "    .dataframe thead th {\n",
              "        text-align: right;\n",
              "    }\n",
              "</style>\n",
              "<table border=\"1\" class=\"dataframe\">\n",
              "  <thead>\n",
              "    <tr style=\"text-align: right;\">\n",
              "      <th></th>\n",
              "      <th>is_sarcastic</th>\n",
              "      <th>headline</th>\n",
              "      <th>article_link</th>\n",
              "    </tr>\n",
              "  </thead>\n",
              "  <tbody>\n",
              "    <tr>\n",
              "      <th>0</th>\n",
              "      <td>1</td>\n",
              "      <td>thirtysomething scientists unveil doomsday clo...</td>\n",
              "      <td>https://www.theonion.com/thirtysomething-scien...</td>\n",
              "    </tr>\n",
              "    <tr>\n",
              "      <th>1</th>\n",
              "      <td>0</td>\n",
              "      <td>dem rep. totally nails why congress is falling...</td>\n",
              "      <td>https://www.huffingtonpost.com/entry/donna-edw...</td>\n",
              "    </tr>\n",
              "    <tr>\n",
              "      <th>2</th>\n",
              "      <td>0</td>\n",
              "      <td>eat your veggies: 9 deliciously different recipes</td>\n",
              "      <td>https://www.huffingtonpost.com/entry/eat-your-...</td>\n",
              "    </tr>\n",
              "    <tr>\n",
              "      <th>3</th>\n",
              "      <td>1</td>\n",
              "      <td>inclement weather prevents liar from getting t...</td>\n",
              "      <td>https://local.theonion.com/inclement-weather-p...</td>\n",
              "    </tr>\n",
              "    <tr>\n",
              "      <th>4</th>\n",
              "      <td>1</td>\n",
              "      <td>mother comes pretty close to using word 'strea...</td>\n",
              "      <td>https://www.theonion.com/mother-comes-pretty-c...</td>\n",
              "    </tr>\n",
              "  </tbody>\n",
              "</table>\n",
              "</div>"
            ],
            "text/plain": [
              "   is_sarcastic  ...                                       article_link\n",
              "0             1  ...  https://www.theonion.com/thirtysomething-scien...\n",
              "1             0  ...  https://www.huffingtonpost.com/entry/donna-edw...\n",
              "2             0  ...  https://www.huffingtonpost.com/entry/eat-your-...\n",
              "3             1  ...  https://local.theonion.com/inclement-weather-p...\n",
              "4             1  ...  https://www.theonion.com/mother-comes-pretty-c...\n",
              "\n",
              "[5 rows x 3 columns]"
            ]
          },
          "metadata": {
            "tags": []
          },
          "execution_count": 7
        }
      ]
    },
    {
      "cell_type": "code",
      "metadata": {
        "id": "QncTlR-rCne-",
        "colab_type": "code",
        "outputId": "ce937184-75f5-4c3c-ff65-ab79c781f315",
        "colab": {
          "base_uri": "https://localhost:8080/",
          "height": 247
        }
      },
      "source": [
        "x = df['is_sarcastic'].value_counts()\n",
        "plt.pie(x, labels = ['non sarcastic', 'sarcastic'], shadow=True)\n",
        "plt.show()"
      ],
      "execution_count": 8,
      "outputs": [
        {
          "output_type": "display_data",
          "data": {
            "image/png": "[encoded data removed]",
            "text/plain": [
              "<Figure size 432x288 with 1 Axes>"
            ]
          },
          "metadata": {
            "tags": []
          }
        }
      ]
    },
    {
      "cell_type": "markdown",
      "metadata": {
        "id": "_F_i8LFI61f3",
        "colab_type": "text"
      },
      "source": [
        "Counting number of headlines with appropriate number of words:"
      ]
    },
    {
      "cell_type": "code",
      "metadata": {
        "id": "5OFiGOEH40Iy",
        "colab_type": "code",
        "outputId": "07963efb-70e4-44b9-f33a-892ce3bacd4f",
        "colab": {
          "base_uri": "https://localhost:8080/",
          "height": 621
        }
      },
      "source": [
        "count = df['headline'].str.split().apply(len).value_counts()\n",
        "count"
      ],
      "execution_count": 9,
      "outputs": [
        {
          "output_type": "execute_result",
          "data": {
            "text/plain": [
              "10     3638\n",
              "9      3425\n",
              "11     3396\n",
              "8      2935\n",
              "12     2841\n",
              "7      2404\n",
              "13     2083\n",
              "6      1762\n",
              "14     1492\n",
              "5      1164\n",
              "15      969\n",
              "4       591\n",
              "16      578\n",
              "17      383\n",
              "3       306\n",
              "18      228\n",
              "19      143\n",
              "2       118\n",
              "20       63\n",
              "21       45\n",
              "22       23\n",
              "23       12\n",
              "24        5\n",
              "27        3\n",
              "25        2\n",
              "28        2\n",
              "29        2\n",
              "31        1\n",
              "38        1\n",
              "39        1\n",
              "26        1\n",
              "30        1\n",
              "151       1\n",
              "Name: headline, dtype: int64"
            ]
          },
          "metadata": {
            "tags": []
          },
          "execution_count": 9
        }
      ]
    },
    {
      "cell_type": "markdown",
      "metadata": {
        "id": "17Ra8NgX74_5",
        "colab_type": "text"
      },
      "source": [
        "We can see, that most part of headlines has less then 24 words. We will use \n",
        "\n",
        "*   List item\n",
        "*   List item\n",
        "\n",
        "this fact for choosing length of sequence.\n",
        "\n",
        "Dropping unusefull column:"
      ]
    },
    {
      "cell_type": "code",
      "metadata": {
        "id": "3KfmSwz35in0",
        "colab_type": "code",
        "outputId": "0c85f954-bfee-46e9-b746-45e3bd999a9d",
        "colab": {
          "base_uri": "https://localhost:8080/",
          "height": 197
        }
      },
      "source": [
        "df = df.drop(['article_link'], axis=1)\n",
        "df.head()"
      ],
      "execution_count": 10,
      "outputs": [
        {
          "output_type": "execute_result",
          "data": {
            "text/html": [
              "<div>\n",
              "<style scoped>\n",
              "    .dataframe tbody tr th:only-of-type {\n",
              "        vertical-align: middle;\n",
              "    }\n",
              "\n",
              "    .dataframe tbody tr th {\n",
              "        vertical-align: top;\n",
              "    }\n",
              "\n",
              "    .dataframe thead th {\n",
              "        text-align: right;\n",
              "    }\n",
              "</style>\n",
              "<table border=\"1\" class=\"dataframe\">\n",
              "  <thead>\n",
              "    <tr style=\"text-align: right;\">\n",
              "      <th></th>\n",
              "      <th>is_sarcastic</th>\n",
              "      <th>headline</th>\n",
              "    </tr>\n",
              "  </thead>\n",
              "  <tbody>\n",
              "    <tr>\n",
              "      <th>0</th>\n",
              "      <td>1</td>\n",
              "      <td>thirtysomething scientists unveil doomsday clo...</td>\n",
              "    </tr>\n",
              "    <tr>\n",
              "      <th>1</th>\n",
              "      <td>0</td>\n",
              "      <td>dem rep. totally nails why congress is falling...</td>\n",
              "    </tr>\n",
              "    <tr>\n",
              "      <th>2</th>\n",
              "      <td>0</td>\n",
              "      <td>eat your veggies: 9 deliciously different recipes</td>\n",
              "    </tr>\n",
              "    <tr>\n",
              "      <th>3</th>\n",
              "      <td>1</td>\n",
              "      <td>inclement weather prevents liar from getting t...</td>\n",
              "    </tr>\n",
              "    <tr>\n",
              "      <th>4</th>\n",
              "      <td>1</td>\n",
              "      <td>mother comes pretty close to using word 'strea...</td>\n",
              "    </tr>\n",
              "  </tbody>\n",
              "</table>\n",
              "</div>"
            ],
            "text/plain": [
              "   is_sarcastic                                           headline\n",
              "0             1  thirtysomething scientists unveil doomsday clo...\n",
              "1             0  dem rep. totally nails why congress is falling...\n",
              "2             0  eat your veggies: 9 deliciously different recipes\n",
              "3             1  inclement weather prevents liar from getting t...\n",
              "4             1  mother comes pretty close to using word 'strea..."
            ]
          },
          "metadata": {
            "tags": []
          },
          "execution_count": 10
        }
      ]
    },
    {
      "cell_type": "markdown",
      "metadata": {
        "id": "c3k_QAjY8NfS",
        "colab_type": "text"
      },
      "source": [
        "We will use 20% of dataset as test set."
      ]
    },
    {
      "cell_type": "code",
      "metadata": {
        "id": "1I2Efz127_x9",
        "colab_type": "code",
        "colab": {}
      },
      "source": [
        "X = df['headline']\n",
        "y = df['is_sarcastic']\n",
        "\n",
        "X_train, X_test, y_train, y_test = train_test_split(X, y, test_size=0.20, random_state=42)"
      ],
      "execution_count": 0,
      "outputs": []
    },
    {
      "cell_type": "markdown",
      "metadata": {
        "id": "bVLKjX6s8mt6",
        "colab_type": "text"
      },
      "source": [
        "Loading test and train sets to csv:"
      ]
    },
    {
      "cell_type": "code",
      "metadata": {
        "id": "QbIDzEg88hh3",
        "colab_type": "code",
        "colab": {}
      },
      "source": [
        "!mkdir torchtext_data"
      ],
      "execution_count": 0,
      "outputs": []
    },
    {
      "cell_type": "code",
      "metadata": {
        "id": "9KFBKn9T8c9B",
        "colab_type": "code",
        "colab": {}
      },
      "source": [
        "train_data = pd.concat([X_train, y_train], axis=1)\n",
        "test_data = pd.concat([X_test, y_test], axis=1)\n",
        "\n",
        "train_data.to_csv(\"torchtext_data/train.csv\", index=False)\n",
        "test_data.to_csv(\"torchtext_data/test.csv\", index=False)"
      ],
      "execution_count": 0,
      "outputs": []
    },
    {
      "cell_type": "markdown",
      "metadata": {
        "id": "T29G95Ve-T7a",
        "colab_type": "text"
      },
      "source": [
        "Prepearing data:"
      ]
    },
    {
      "cell_type": "code",
      "metadata": {
        "id": "vcjqovOR9hvZ",
        "colab_type": "code",
        "colab": {}
      },
      "source": [
        "device = torch.device('cuda' if torch.cuda.is_available() else 'cpu')"
      ],
      "execution_count": 0,
      "outputs": []
    },
    {
      "cell_type": "code",
      "metadata": {
        "id": "RJGcqHhW84QM",
        "colab_type": "code",
        "colab": {}
      },
      "source": [
        "fix_length = 24\n",
        "TEXT = data.Field(sequential=True, tokenize=\"spacy\", fix_length=fix_length)\n",
        "LABEL = data.LabelField(dtype=torch.long, sequential=False)"
      ],
      "execution_count": 0,
      "outputs": []
    },
    {
      "cell_type": "code",
      "metadata": {
        "id": "t-01tlYZ-Mn1",
        "colab_type": "code",
        "colab": {}
      },
      "source": [
        "train_data, test_data = data.TabularDataset.splits(\n",
        "    path=\"torchtext_data/\", train=\"train.csv\", \n",
        "    test=\"test.csv\",format=\"csv\", skip_header=True, \n",
        "    fields=[('Text', TEXT), ('Label', LABEL)]\n",
        ")"
      ],
      "execution_count": 0,
      "outputs": []
    },
    {
      "cell_type": "code",
      "metadata": {
        "id": "GwhDW7py_VU1",
        "colab_type": "code",
        "colab": {}
      },
      "source": [
        "batch_size = 16\n",
        "\n",
        "train_iterator, test_iterator = data.BucketIterator.splits(\n",
        "    (train_data, test_data), sort_key=lambda x: len(x.Text),\n",
        "    batch_size=batch_size,\n",
        "    device=device)"
      ],
      "execution_count": 0,
      "outputs": []
    },
    {
      "cell_type": "code",
      "metadata": {
        "id": "sAa5idER-cn_",
        "colab_type": "code",
        "outputId": "c0c25d35-e23c-4ff9-f059-384d4f4c3d34",
        "colab": {
          "base_uri": "https://localhost:8080/",
          "height": 52
        }
      },
      "source": [
        "print(f'Number of training examples: {len(train_data)}')\n",
        "print(f'Number of testing examples: {len(test_data)}')"
      ],
      "execution_count": 18,
      "outputs": [
        {
          "output_type": "stream",
          "text": [
            "Number of training examples: 22895\n",
            "Number of testing examples: 5724\n"
          ],
          "name": "stdout"
        }
      ]
    },
    {
      "cell_type": "markdown",
      "metadata": {
        "id": "3woO5khX-rjD",
        "colab_type": "text"
      },
      "source": [
        "Making vocabluary with GloVe with dimantion of 300:"
      ]
    },
    {
      "cell_type": "code",
      "metadata": {
        "id": "_pZltSV3-nQ5",
        "colab_type": "code",
        "outputId": "b81ed815-aee7-4020-80fa-af45df6a9bfb",
        "colab": {
          "base_uri": "https://localhost:8080/",
          "height": 52
        }
      },
      "source": [
        "TEXT.build_vocab(train_data, vectors=GloVe(name='6B', dim=300))\n",
        "LABEL.build_vocab(train_data)"
      ],
      "execution_count": 19,
      "outputs": [
        {
          "output_type": "stream",
          "text": [
            ".vector_cache/glove.6B.zip: 862MB [06:30, 2.21MB/s]                           \n",
            "100%|█████████▉| 399559/400000 [00:48<00:00, 8417.02it/s]"
          ],
          "name": "stderr"
        }
      ]
    },
    {
      "cell_type": "code",
      "metadata": {
        "id": "rDLwbpyU_osm",
        "colab_type": "code",
        "colab": {}
      },
      "source": [
        "word_embeddings = TEXT.vocab.vectors\n",
        "output_size = 2 #two classes\n",
        "num_layers = 1\n",
        "hidden_size = 128 #num of units in our NN\n",
        "embedding_length = 300 #dim of GloVe vector\n",
        "vocab_size = len(TEXT.vocab)"
      ],
      "execution_count": 0,
      "outputs": []
    },
    {
      "cell_type": "markdown",
      "metadata": {
        "id": "5ls7JtFSAHn6",
        "colab_type": "text"
      },
      "source": [
        "Defining the model:\n",
        "\n",
        "\n",
        "*   Simple LSTM - LSTMClassifier class \n",
        "*   LSTM with Attanrion - AttantionLSTMClassifier class \n",
        "*   Bidirectional LSTM - BidirectionalLSTMClassifier class\n",
        "*   Bidirectional LSTM with 2D MaxPool layer - LSTM2DMaxPoolClassifier class\n",
        "\n",
        "\n",
        "\n"
      ]
    },
    {
      "cell_type": "code",
      "metadata": {
        "id": "aWyTUxgj_HgM",
        "colab_type": "code",
        "colab": {}
      },
      "source": [
        "from LSTM2DMaxPool import *"
      ],
      "execution_count": 0,
      "outputs": []
    },
    {
      "cell_type": "code",
      "metadata": {
        "id": "1XIX2fK7AFKW",
        "colab_type": "code",
        "colab": {}
      },
      "source": [
        "model = LSTM2DMaxPoolClassifier(batch_size, output_size, hidden_size, vocab_size, embedding_length, num_layers, word_embeddings)"
      ],
      "execution_count": 0,
      "outputs": []
    },
    {
      "cell_type": "code",
      "metadata": {
        "id": "uiv6zysuCgtT",
        "colab_type": "code",
        "colab": {}
      },
      "source": [
        "optimizer = optim.Adam(model.parameters(), lr=0.000174282, weight_decay=4.62355e-05)\n",
        "criterion = nn.CrossEntropyLoss()"
      ],
      "execution_count": 0,
      "outputs": []
    },
    {
      "cell_type": "code",
      "metadata": {
        "id": "UQPqdzMnCp1c",
        "colab_type": "code",
        "colab": {}
      },
      "source": [
        "model = model.to(device)\n",
        "criterion = criterion.to(device)"
      ],
      "execution_count": 0,
      "outputs": []
    },
    {
      "cell_type": "code",
      "metadata": {
        "id": "g5xutdQXCwsH",
        "colab_type": "code",
        "colab": {}
      },
      "source": [
        "dataiter_dict = {'train': train_iterator, 'val': test_iterator}\n",
        "dataset_sizes = {'train':len(train_data), 'val':len(test_data)}"
      ],
      "execution_count": 0,
      "outputs": []
    },
    {
      "cell_type": "code",
      "metadata": {
        "id": "LYFOBmacC5fO",
        "colab_type": "code",
        "colab": {}
      },
      "source": [
        "def train_model(model, criterion, optimizer, scheduler, num_epochs=25):\n",
        "    since = time.time()\n",
        "    print('starting')\n",
        "    best_model_wts = copy.deepcopy(model.state_dict())\n",
        "    best_loss = 200\n",
        "\n",
        "    val_loss = []\n",
        "    train_loss = []\n",
        "    val_acc = []\n",
        "    train_acc = []\n",
        "\n",
        "    for epoch in range(num_epochs):\n",
        "        print('Epoch {}/{}'.format(epoch+1, num_epochs))\n",
        "        print('-' * 10)\n",
        "\n",
        "        # Each epoch has a training and validation phase\n",
        "        for phase in ['train', 'val']:\n",
        "            if phase == 'train':\n",
        "                #scheduler.step()\n",
        "                model.train()  # Set model to training mode\n",
        "            else:\n",
        "                model.eval()   # Set model to evaluate mode\n",
        "\n",
        "            running_loss = 0.0\n",
        "            sentiment_corrects = 0\n",
        "            tp = 0.0 # true positive\n",
        "            tn = 0.0 # true negative\n",
        "            fp = 0.0 # false positive\n",
        "            fn = 0.0 # false negative\n",
        "\n",
        "            # Iterate over data.\n",
        "            for batch in dataiter_dict[phase]:\n",
        "                \n",
        "                # zero the parameter gradients\n",
        "                optimizer.zero_grad()\n",
        "\n",
        "                # forward\n",
        "                # track history if only in train\n",
        "                with torch.set_grad_enabled(phase == 'train'):\n",
        "                    text = batch.Text\n",
        "                    label = batch.Label\n",
        "                    label = torch.autograd.Variable(label).long()\n",
        "\n",
        "                    if torch.cuda.is_available():\n",
        "                      text = text.cuda()\n",
        "                      label = label.cuda()\n",
        "                    if (batch.Text.size()[1] is not batch_size):\n",
        "                      continue\n",
        "                    \n",
        "                    outputs = model(text)\n",
        "                    outputs = F.softmax(outputs,dim=-1)                   \n",
        "                    loss = criterion(outputs, label)\n",
        "\n",
        "                    # backward + optimize only if in training phase\n",
        "                    if phase == 'train':\n",
        "                        \n",
        "                        loss.backward()\n",
        "                        optimizer.step()\n",
        "\n",
        "                # statistics\n",
        "                running_loss += loss.item() * text.size(0)\n",
        "                sentiment_corrects += torch.sum(torch.max(outputs, 1)[1] == label)\n",
        "\n",
        "                tp += torch.sum(torch.max(outputs, 1)[1] & label)\n",
        "                tn += torch.sum(1-torch.max(outputs, 1)[1] & 1-label)\n",
        "                fp += torch.sum(torch.max(outputs, 1)[1] & 1-label)\n",
        "                fn += torch.sum(1-torch.max(outputs, 1)[1] & label)\n",
        "                \n",
        "            epoch_loss = running_loss / dataset_sizes[phase]\n",
        "           \n",
        "            sentiment_acc = float(sentiment_corrects) / dataset_sizes[phase]\n",
        "\n",
        "            if phase == 'train':\n",
        "                train_acc.append(sentiment_acc)\n",
        "                train_loss.append(epoch_loss)\n",
        "            elif phase == 'val':\n",
        "                val_acc.append(sentiment_acc)\n",
        "                val_loss.append(epoch_loss)\n",
        "\n",
        "            print('{} total loss: {:.4f} '.format(phase,epoch_loss ))\n",
        "            print('{} sentiment_acc: {:.4f}'.format(\n",
        "                phase, sentiment_acc))\n",
        "\n",
        "            if phase == 'val' and epoch_loss < best_loss:\n",
        "                print('saving with loss of {}'.format(epoch_loss),\n",
        "                      'improved over previous {}'.format(best_loss))\n",
        "                best_loss = epoch_loss\n",
        "                best_model_wts = copy.deepcopy(model.state_dict())\n",
        "                name = str(type(model))\n",
        "                torch.save(model.state_dict(), '../Models/Weights/'+ name[name.index('.')+1:-2] +'_model_test.pth')\n",
        "\n",
        "            if phase == 'val' and epoch == num_epochs - 1:\n",
        "                recall = tp / (tp + fn)\n",
        "                print('recall {:.4f}'.format(recall))\n",
        "\n",
        "        print()\n",
        "\n",
        "    confusion_matrix = [[int(tp), int(fp)],[int(fn), int(tn)]]\n",
        "    precision = tp / (tp + fp)\n",
        "    f1 = 2*(precision*recall)/(precision+recall)\n",
        "    time_elapsed = time.time() - since\n",
        "    print('Training complete in {:.0f}m {:.0f}s'.format(\n",
        "        time_elapsed // 60, time_elapsed % 60))\n",
        "    print('Best val loss: {:4f}'.format(float(best_loss)))\n",
        "\n",
        "    results = {'time': time_elapsed, \n",
        "               'recall': recall,\n",
        "               'precision': precision,\n",
        "               'f1': f1, \n",
        "               'conf_matr': confusion_matrix,\n",
        "               'val_loss': val_loss, \n",
        "               'train_loss': train_loss, \n",
        "               'val_acc': val_acc, \n",
        "               'train_acc': train_acc}\n",
        "    # load best model weights\n",
        "    model.load_state_dict(best_model_wts)\n",
        "    return model, results"
      ],
      "execution_count": 0,
      "outputs": []
    },
    {
      "cell_type": "markdown",
      "metadata": {
        "id": "m7aFQTvSDekB",
        "colab_type": "text"
      },
      "source": [
        "Train model:"
      ]
    },
    {
      "cell_type": "code",
      "metadata": {
        "id": "Ov772HfUDb93",
        "colab_type": "code",
        "outputId": "a7c1266c-a98d-4d9a-b9a0-118c5d4a03fc",
        "colab": {
          "base_uri": "https://localhost:8080/",
          "height": 1000
        }
      },
      "source": [
        "model_fit, res = train_model(model, criterion, optimizer, scheduler = None, num_epochs=20)"
      ],
      "execution_count": 38,
      "outputs": [
        {
          "output_type": "stream",
          "text": [
            "starting\n",
            "Epoch 1/20\n",
            "----------\n",
            "train total loss: 0.9130 \n",
            "train sentiment_acc: 0.6967\n",
            "val total loss: 0.8268 \n",
            "val sentiment_acc: 0.7820\n",
            "saving with loss of 0.8267934102432283 improved over previous 200\n",
            "\n",
            "Epoch 2/20\n",
            "----------\n",
            "train total loss: 0.7796 \n",
            "train sentiment_acc: 0.8042\n",
            "val total loss: 0.7541 \n",
            "val sentiment_acc: 0.8070\n",
            "saving with loss of 0.7541039662291169 improved over previous 0.8267934102432283\n",
            "\n",
            "Epoch 3/20\n",
            "----------\n",
            "train total loss: 0.7224 \n",
            "train sentiment_acc: 0.8302\n",
            "val total loss: 0.7186 \n",
            "val sentiment_acc: 0.8269\n",
            "saving with loss of 0.7185660030856822 improved over previous 0.7541039662291169\n",
            "\n",
            "Epoch 4/20\n",
            "----------\n",
            "train total loss: 0.6930 \n",
            "train sentiment_acc: 0.8483\n",
            "val total loss: 0.7042 \n",
            "val sentiment_acc: 0.8321\n",
            "saving with loss of 0.7042037582247512 improved over previous 0.7185660030856822\n",
            "\n",
            "Epoch 5/20\n",
            "----------\n",
            "train total loss: 0.6705 \n",
            "train sentiment_acc: 0.8613\n",
            "val total loss: 0.6917 \n",
            "val sentiment_acc: 0.8424\n",
            "saving with loss of 0.6916504318609178 improved over previous 0.7042037582247512\n",
            "\n",
            "Epoch 6/20\n",
            "----------\n",
            "train total loss: 0.6530 \n",
            "train sentiment_acc: 0.8729\n",
            "val total loss: 0.6893 \n",
            "val sentiment_acc: 0.8456\n",
            "saving with loss of 0.6893051865215821 improved over previous 0.6916504318609178\n",
            "\n",
            "Epoch 7/20\n",
            "----------\n",
            "train total loss: 0.6382 \n",
            "train sentiment_acc: 0.8839\n",
            "val total loss: 0.6697 \n",
            "val sentiment_acc: 0.8571\n",
            "saving with loss of 0.6696805445403173 improved over previous 0.6893051865215821\n",
            "\n",
            "Epoch 8/20\n",
            "----------\n",
            "train total loss: 0.6258 \n",
            "train sentiment_acc: 0.8922\n",
            "val total loss: 0.6694 \n",
            "val sentiment_acc: 0.8576\n",
            "saving with loss of 0.6693506413285837 improved over previous 0.6696805445403173\n",
            "\n",
            "Epoch 9/20\n",
            "----------\n",
            "train total loss: 0.6174 \n",
            "train sentiment_acc: 0.8986\n",
            "val total loss: 0.6738 \n",
            "val sentiment_acc: 0.8555\n",
            "\n",
            "Epoch 10/20\n",
            "----------\n",
            "train total loss: 0.6093 \n",
            "train sentiment_acc: 0.9041\n",
            "val total loss: 0.6681 \n",
            "val sentiment_acc: 0.8604\n",
            "saving with loss of 0.668088048509082 improved over previous 0.6693506413285837\n",
            "\n",
            "Epoch 11/20\n",
            "----------\n",
            "train total loss: 0.6056 \n",
            "train sentiment_acc: 0.9055\n",
            "val total loss: 0.6658 \n",
            "val sentiment_acc: 0.8608\n",
            "saving with loss of 0.6658465832284411 improved over previous 0.668088048509082\n",
            "\n",
            "Epoch 12/20\n",
            "----------\n",
            "train total loss: 0.5927 \n",
            "train sentiment_acc: 0.9143\n",
            "val total loss: 0.6621 \n",
            "val sentiment_acc: 0.8651\n",
            "saving with loss of 0.6621460620962099 improved over previous 0.6658465832284411\n",
            "\n",
            "Epoch 13/20\n",
            "----------\n",
            "train total loss: 0.5879 \n",
            "train sentiment_acc: 0.9184\n",
            "val total loss: 0.6516 \n",
            "val sentiment_acc: 0.8719\n",
            "saving with loss of 0.6515576063462023 improved over previous 0.6621460620962099\n",
            "\n",
            "Epoch 14/20\n",
            "----------\n",
            "train total loss: 0.5832 \n",
            "train sentiment_acc: 0.9219\n",
            "val total loss: 0.6680 \n",
            "val sentiment_acc: 0.8583\n",
            "\n",
            "Epoch 15/20\n",
            "----------\n",
            "train total loss: 0.5800 \n",
            "train sentiment_acc: 0.9237\n",
            "val total loss: 0.6690 \n",
            "val sentiment_acc: 0.8613\n",
            "\n",
            "Epoch 16/20\n",
            "----------\n",
            "train total loss: 0.5756 \n",
            "train sentiment_acc: 0.9278\n",
            "val total loss: 0.6627 \n",
            "val sentiment_acc: 0.8653\n",
            "\n",
            "Epoch 17/20\n",
            "----------\n",
            "train total loss: 0.5716 \n",
            "train sentiment_acc: 0.9298\n",
            "val total loss: 0.6615 \n",
            "val sentiment_acc: 0.8648\n",
            "\n",
            "Epoch 18/20\n",
            "----------\n",
            "train total loss: 0.5673 \n",
            "train sentiment_acc: 0.9331\n",
            "val total loss: 0.6576 \n",
            "val sentiment_acc: 0.8698\n",
            "\n",
            "Epoch 19/20\n",
            "----------\n",
            "train total loss: 0.5642 \n",
            "train sentiment_acc: 0.9352\n",
            "val total loss: 0.6785 \n",
            "val sentiment_acc: 0.8548\n",
            "\n",
            "Epoch 20/20\n",
            "----------\n",
            "train total loss: 0.5627 \n",
            "train sentiment_acc: 0.9368\n",
            "val total loss: 0.6531 \n",
            "val sentiment_acc: 0.8721\n",
            "recall 0.8713\n",
            "\n",
            "Training complete in 2m 49s\n",
            "Best val loss: 0.651558\n"
          ],
          "name": "stdout"
        }
      ]
    },
    {
      "cell_type": "markdown",
      "metadata": {
        "id": "tmTTqHSNIoHf",
        "colab_type": "text"
      },
      "source": [
        "Lets see at test and train accuracy plots:"
      ]
    },
    {
      "cell_type": "code",
      "metadata": {
        "id": "KTUH1-7qD4T9",
        "colab_type": "code",
        "outputId": "b6dc97a4-1204-44de-c06b-38c68c158b0c",
        "colab": {
          "base_uri": "https://localhost:8080/",
          "height": 278
        }
      },
      "source": [
        "plt.plot(res['train_acc'], label = 'Train Accuracy')\n",
        "plt.plot(res['val_acc'], label = 'Test Accuracy')\n",
        "plt.xlabel('Epoch')\n",
        "plt.legend()\n",
        "plt.show()"
      ],
      "execution_count": 39,
      "outputs": [
        {
          "output_type": "display_data",
          "data": {
            "image/png": "[encoded data removed]",
            "text/plain": [
              "<Figure size 432x288 with 1 Axes>"
            ]
          },
          "metadata": {
            "tags": []
          }
        }
      ]
    },
    {
      "cell_type": "markdown",
      "metadata": {
        "id": "A0BY02_FMk8I",
        "colab_type": "text"
      },
      "source": [
        "And confusion matrix:"
      ]
    },
    {
      "cell_type": "code",
      "metadata": {
        "id": "JAvurJUfLEAK",
        "colab_type": "code",
        "outputId": "4b9c4829-e2cc-4a8c-f516-27fb56ad99ed",
        "colab": {
          "base_uri": "https://localhost:8080/",
          "height": 107
        }
      },
      "source": [
        "pd.DataFrame(res['conf_matr'], index=['pred pos', 'pred neg'], columns=['actual pos', 'actual neg'])"
      ],
      "execution_count": 40,
      "outputs": [
        {
          "output_type": "execute_result",
          "data": {
            "text/html": [
              "<div>\n",
              "<style scoped>\n",
              "    .dataframe tbody tr th:only-of-type {\n",
              "        vertical-align: middle;\n",
              "    }\n",
              "\n",
              "    .dataframe tbody tr th {\n",
              "        vertical-align: top;\n",
              "    }\n",
              "\n",
              "    .dataframe thead th {\n",
              "        text-align: right;\n",
              "    }\n",
              "</style>\n",
              "<table border=\"1\" class=\"dataframe\">\n",
              "  <thead>\n",
              "    <tr style=\"text-align: right;\">\n",
              "      <th></th>\n",
              "      <th>actual pos</th>\n",
              "      <th>actual neg</th>\n",
              "    </tr>\n",
              "  </thead>\n",
              "  <tbody>\n",
              "    <tr>\n",
              "      <th>pred pos</th>\n",
              "      <td>2369</td>\n",
              "      <td>370</td>\n",
              "    </tr>\n",
              "    <tr>\n",
              "      <th>pred neg</th>\n",
              "      <td>350</td>\n",
              "      <td>2623</td>\n",
              "    </tr>\n",
              "  </tbody>\n",
              "</table>\n",
              "</div>"
            ],
            "text/plain": [
              "          actual pos  actual neg\n",
              "pred pos        2369         370\n",
              "pred neg         350        2623"
            ]
          },
          "metadata": {
            "tags": []
          },
          "execution_count": 40
        }
      ]
    },
    {
      "cell_type": "code",
      "metadata": {
        "id": "ksNMa1RzUZN9",
        "colab_type": "code",
        "colab": {
          "base_uri": "https://localhost:8080/",
          "height": 121
        },
        "outputId": "8fca22f5-fb18-4629-bae1-7585db75ece0"
      },
      "source": [
        "pd.DataFrame([float(res['f1']),\n",
        "              float(res['precision']), \n",
        "              float(res['recall'])], \n",
        "              index = ['f1 score', 'precision', 'recall'],\n",
        "              columns=[''])"
      ],
      "execution_count": 41,
      "outputs": [
        {
          "output_type": "execute_result",
          "data": {
            "text/html": [
              "<div>\n",
              "<style scoped>\n",
              "    .dataframe tbody tr th:only-of-type {\n",
              "        vertical-align: middle;\n",
              "    }\n",
              "\n",
              "    .dataframe tbody tr th {\n",
              "        vertical-align: top;\n",
              "    }\n",
              "\n",
              "    .dataframe thead th {\n",
              "        text-align: right;\n",
              "    }\n",
              "</style>\n",
              "<table border=\"1\" class=\"dataframe\">\n",
              "  <thead>\n",
              "    <tr style=\"text-align: right;\">\n",
              "      <th></th>\n",
              "      <th></th>\n",
              "    </tr>\n",
              "  </thead>\n",
              "  <tbody>\n",
              "    <tr>\n",
              "      <th>f1 score</th>\n",
              "      <td>0.868084</td>\n",
              "    </tr>\n",
              "    <tr>\n",
              "      <th>precision</th>\n",
              "      <td>0.864914</td>\n",
              "    </tr>\n",
              "    <tr>\n",
              "      <th>recall</th>\n",
              "      <td>0.871276</td>\n",
              "    </tr>\n",
              "  </tbody>\n",
              "</table>\n",
              "</div>"
            ],
            "text/plain": [
              "                   \n",
              "f1 score   0.868084\n",
              "precision  0.864914\n",
              "recall     0.871276"
            ]
          },
          "metadata": {
            "tags": []
          },
          "execution_count": 41
        }
      ]
    },
    {
      "cell_type": "code",
      "metadata": {
        "id": "UNb7ssAx9d_p",
        "colab_type": "code",
        "colab": {}
      },
      "source": [
        ""
      ],
      "execution_count": 0,
      "outputs": []
    }
  ]
}