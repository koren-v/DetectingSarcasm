{
  "nbformat": 4,
  "nbformat_minor": 0,
  "metadata": {
    "colab": {
      "name": "Copy of LSTMs.ipynb",
      "provenance": [],
      "collapsed_sections": []
    },
    "kernelspec": {
      "name": "python3",
      "display_name": "Python 3"
    },
    "accelerator": "GPU"
  },
  "cells": [
    {
      "cell_type": "code",
      "metadata": {
        "id": "1TZLgnaoJ9OS",
        "colab_type": "code",
        "colab": {}
      },
      "source": [
        "# from google.colab import drive\n",
        "# drive.mount('/content/drive')"
      ],
      "execution_count": 0,
      "outputs": []
    },
    {
      "cell_type": "code",
      "metadata": {
        "id": "KpNXJwI5KCEJ",
        "colab_type": "code",
        "colab": {}
      },
      "source": [
        "# !cp -avr /content/drive/'My Drive'/DetectingSarcasm ."
      ],
      "execution_count": 0,
      "outputs": []
    },
    {
      "cell_type": "code",
      "metadata": {
        "id": "h1m7ISXQKPm1",
        "colab_type": "code",
        "colab": {}
      },
      "source": [
        "# %cd DetectingSarcasm/Notebooks"
      ],
      "execution_count": 0,
      "outputs": []
    },
    {
      "cell_type": "code",
      "metadata": {
        "id": "wcL5kYXzKTk-",
        "colab_type": "code",
        "colab": {}
      },
      "source": [
        "# !ls"
      ],
      "execution_count": 0,
      "outputs": []
    },
    {
      "cell_type": "code",
      "metadata": {
        "id": "DeQV9fvC7sg9",
        "colab_type": "code",
        "colab": {}
      },
      "source": [
        "import sys\n",
        "sys.path.append('../Models')\n",
        "sys.path.append('../')"
      ],
      "execution_count": 0,
      "outputs": []
    },
    {
      "cell_type": "code",
      "metadata": {
        "id": "9Q0B2v8U4Sq7",
        "colab_type": "code",
        "colab": {}
      },
      "source": [
        "import torch\n",
        "from torchtext import data\n",
        "\n",
        "import pandas as pd\n",
        "import numpy as np\n",
        "import torch.optim as optim\n",
        "import torch.nn.functional as F\n",
        "\n",
        "import spacy\n",
        "\n",
        "import time\n",
        "import copy\n",
        "from torch.optim import lr_scheduler\n",
        "\n",
        "from torchtext.vocab import Vectors, GloVe\n",
        "from sklearn.model_selection import train_test_split\n",
        "import matplotlib.pyplot as plt\n",
        "\n",
        "from utils import *"
      ],
      "execution_count": 0,
      "outputs": []
    },
    {
      "cell_type": "markdown",
      "metadata": {
        "id": "yg-CioKO5Jqc",
        "colab_type": "text"
      },
      "source": [
        "Let's look at our dataset:"
      ]
    },
    {
      "cell_type": "code",
      "metadata": {
        "id": "RXiJAQcG4wRK",
        "colab_type": "code",
        "outputId": "6fbe94c6-fa29-4fb4-900c-face7a0c66c6",
        "colab": {
          "base_uri": "https://localhost:8080/",
          "height": 197
        }
      },
      "source": [
        "df = pd.read_json(\"../Data/Sarcasm_Headlines_Dataset_v2.json\", lines=True)\n",
        "df.head()"
      ],
      "execution_count": 7,
      "outputs": [
        {
          "output_type": "execute_result",
          "data": {
            "text/html": [
              "<div>\n",
              "<style scoped>\n",
              "    .dataframe tbody tr th:only-of-type {\n",
              "        vertical-align: middle;\n",
              "    }\n",
              "\n",
              "    .dataframe tbody tr th {\n",
              "        vertical-align: top;\n",
              "    }\n",
              "\n",
              "    .dataframe thead th {\n",
              "        text-align: right;\n",
              "    }\n",
              "</style>\n",
              "<table border=\"1\" class=\"dataframe\">\n",
              "  <thead>\n",
              "    <tr style=\"text-align: right;\">\n",
              "      <th></th>\n",
              "      <th>is_sarcastic</th>\n",
              "      <th>headline</th>\n",
              "      <th>article_link</th>\n",
              "    </tr>\n",
              "  </thead>\n",
              "  <tbody>\n",
              "    <tr>\n",
              "      <th>0</th>\n",
              "      <td>1</td>\n",
              "      <td>thirtysomething scientists unveil doomsday clo...</td>\n",
              "      <td>https://www.theonion.com/thirtysomething-scien...</td>\n",
              "    </tr>\n",
              "    <tr>\n",
              "      <th>1</th>\n",
              "      <td>0</td>\n",
              "      <td>dem rep. totally nails why congress is falling...</td>\n",
              "      <td>https://www.huffingtonpost.com/entry/donna-edw...</td>\n",
              "    </tr>\n",
              "    <tr>\n",
              "      <th>2</th>\n",
              "      <td>0</td>\n",
              "      <td>eat your veggies: 9 deliciously different recipes</td>\n",
              "      <td>https://www.huffingtonpost.com/entry/eat-your-...</td>\n",
              "    </tr>\n",
              "    <tr>\n",
              "      <th>3</th>\n",
              "      <td>1</td>\n",
              "      <td>inclement weather prevents liar from getting t...</td>\n",
              "      <td>https://local.theonion.com/inclement-weather-p...</td>\n",
              "    </tr>\n",
              "    <tr>\n",
              "      <th>4</th>\n",
              "      <td>1</td>\n",
              "      <td>mother comes pretty close to using word 'strea...</td>\n",
              "      <td>https://www.theonion.com/mother-comes-pretty-c...</td>\n",
              "    </tr>\n",
              "  </tbody>\n",
              "</table>\n",
              "</div>"
            ],
            "text/plain": [
              "   is_sarcastic  ...                                       article_link\n",
              "0             1  ...  https://www.theonion.com/thirtysomething-scien...\n",
              "1             0  ...  https://www.huffingtonpost.com/entry/donna-edw...\n",
              "2             0  ...  https://www.huffingtonpost.com/entry/eat-your-...\n",
              "3             1  ...  https://local.theonion.com/inclement-weather-p...\n",
              "4             1  ...  https://www.theonion.com/mother-comes-pretty-c...\n",
              "\n",
              "[5 rows x 3 columns]"
            ]
          },
          "metadata": {
            "tags": []
          },
          "execution_count": 7
        }
      ]
    },
    {
      "cell_type": "code",
      "metadata": {
        "id": "QncTlR-rCne-",
        "colab_type": "code",
        "outputId": "3ad43a4f-0f19-4792-f8ce-dab2e75a4554",
        "colab": {
          "base_uri": "https://localhost:8080/",
          "height": 247
        }
      },
      "source": [
        "x = df['is_sarcastic'].value_counts()\n",
        "plt.pie(x, labels = ['non sarcastic', 'sarcastic'], shadow=True)\n",
        "plt.show()"
      ],
      "execution_count": 8,
      "outputs": [
        {
          "output_type": "display_data",
          "data": {
            "image/png": "[encoded data removed]",
            "text/plain": [
              "<Figure size 432x288 with 1 Axes>"
            ]
          },
          "metadata": {
            "tags": []
          }
        }
      ]
    },
    {
      "cell_type": "markdown",
      "metadata": {
        "id": "_F_i8LFI61f3",
        "colab_type": "text"
      },
      "source": [
        "Counting number of headlines with appropriate number of words:"
      ]
    },
    {
      "cell_type": "code",
      "metadata": {
        "id": "5OFiGOEH40Iy",
        "colab_type": "code",
        "outputId": "1352f81f-8b5e-4131-8d8e-e8aa467fbc07",
        "colab": {
          "base_uri": "https://localhost:8080/",
          "height": 621
        }
      },
      "source": [
        "count = df['headline'].str.split().apply(len).value_counts()\n",
        "count"
      ],
      "execution_count": 9,
      "outputs": [
        {
          "output_type": "execute_result",
          "data": {
            "text/plain": [
              "10     3638\n",
              "9      3425\n",
              "11     3396\n",
              "8      2935\n",
              "12     2841\n",
              "7      2404\n",
              "13     2083\n",
              "6      1762\n",
              "14     1492\n",
              "5      1164\n",
              "15      969\n",
              "4       591\n",
              "16      578\n",
              "17      383\n",
              "3       306\n",
              "18      228\n",
              "19      143\n",
              "2       118\n",
              "20       63\n",
              "21       45\n",
              "22       23\n",
              "23       12\n",
              "24        5\n",
              "27        3\n",
              "25        2\n",
              "28        2\n",
              "29        2\n",
              "31        1\n",
              "38        1\n",
              "39        1\n",
              "26        1\n",
              "30        1\n",
              "151       1\n",
              "Name: headline, dtype: int64"
            ]
          },
          "metadata": {
            "tags": []
          },
          "execution_count": 9
        }
      ]
    },
    {
      "cell_type": "markdown",
      "metadata": {
        "id": "17Ra8NgX74_5",
        "colab_type": "text"
      },
      "source": [
        "We can see, that most part of headlines has less then 24 words. We will use \n",
        "this fact for choosing length of sequence.\n",
        "\n",
        "Dropping unusefull column:"
      ]
    },
    {
      "cell_type": "code",
      "metadata": {
        "id": "3KfmSwz35in0",
        "colab_type": "code",
        "outputId": "b06f6051-b908-463a-b371-2ae88f26a213",
        "colab": {
          "base_uri": "https://localhost:8080/",
          "height": 197
        }
      },
      "source": [
        "df = df.drop(['article_link'], axis=1)\n",
        "df.head()"
      ],
      "execution_count": 10,
      "outputs": [
        {
          "output_type": "execute_result",
          "data": {
            "text/html": [
              "<div>\n",
              "<style scoped>\n",
              "    .dataframe tbody tr th:only-of-type {\n",
              "        vertical-align: middle;\n",
              "    }\n",
              "\n",
              "    .dataframe tbody tr th {\n",
              "        vertical-align: top;\n",
              "    }\n",
              "\n",
              "    .dataframe thead th {\n",
              "        text-align: right;\n",
              "    }\n",
              "</style>\n",
              "<table border=\"1\" class=\"dataframe\">\n",
              "  <thead>\n",
              "    <tr style=\"text-align: right;\">\n",
              "      <th></th>\n",
              "      <th>is_sarcastic</th>\n",
              "      <th>headline</th>\n",
              "    </tr>\n",
              "  </thead>\n",
              "  <tbody>\n",
              "    <tr>\n",
              "      <th>0</th>\n",
              "      <td>1</td>\n",
              "      <td>thirtysomething scientists unveil doomsday clo...</td>\n",
              "    </tr>\n",
              "    <tr>\n",
              "      <th>1</th>\n",
              "      <td>0</td>\n",
              "      <td>dem rep. totally nails why congress is falling...</td>\n",
              "    </tr>\n",
              "    <tr>\n",
              "      <th>2</th>\n",
              "      <td>0</td>\n",
              "      <td>eat your veggies: 9 deliciously different recipes</td>\n",
              "    </tr>\n",
              "    <tr>\n",
              "      <th>3</th>\n",
              "      <td>1</td>\n",
              "      <td>inclement weather prevents liar from getting t...</td>\n",
              "    </tr>\n",
              "    <tr>\n",
              "      <th>4</th>\n",
              "      <td>1</td>\n",
              "      <td>mother comes pretty close to using word 'strea...</td>\n",
              "    </tr>\n",
              "  </tbody>\n",
              "</table>\n",
              "</div>"
            ],
            "text/plain": [
              "   is_sarcastic                                           headline\n",
              "0             1  thirtysomething scientists unveil doomsday clo...\n",
              "1             0  dem rep. totally nails why congress is falling...\n",
              "2             0  eat your veggies: 9 deliciously different recipes\n",
              "3             1  inclement weather prevents liar from getting t...\n",
              "4             1  mother comes pretty close to using word 'strea..."
            ]
          },
          "metadata": {
            "tags": []
          },
          "execution_count": 10
        }
      ]
    },
    {
      "cell_type": "code",
      "metadata": {
        "id": "1I2Efz127_x9",
        "colab_type": "code",
        "colab": {}
      },
      "source": [
        "text = df['headline']\n",
        "target = df['is_sarcastic']"
      ],
      "execution_count": 0,
      "outputs": []
    },
    {
      "cell_type": "code",
      "metadata": {
        "id": "QbIDzEg88hh3",
        "colab_type": "code",
        "colab": {}
      },
      "source": [
        "!mkdir torchtext_data"
      ],
      "execution_count": 0,
      "outputs": []
    },
    {
      "cell_type": "markdown",
      "metadata": {
        "id": "bVLKjX6s8mt6",
        "colab_type": "text"
      },
      "source": [
        "Loading test and train sets to csv:"
      ]
    },
    {
      "cell_type": "markdown",
      "metadata": {
        "id": "c3k_QAjY8NfS",
        "colab_type": "text"
      },
      "source": [
        "We will use 20% of dataset as test set."
      ]
    },
    {
      "cell_type": "code",
      "metadata": {
        "id": "C1U9rk0zJNP0",
        "colab_type": "code",
        "colab": {}
      },
      "source": [
        "split_and_save(text, target, test_size=0.2)"
      ],
      "execution_count": 0,
      "outputs": []
    },
    {
      "cell_type": "markdown",
      "metadata": {
        "id": "T29G95Ve-T7a",
        "colab_type": "text"
      },
      "source": [
        "Preparing the data:"
      ]
    },
    {
      "cell_type": "code",
      "metadata": {
        "id": "vcjqovOR9hvZ",
        "colab_type": "code",
        "colab": {}
      },
      "source": [
        "device = torch.device('cuda' if torch.cuda.is_available() else 'cpu')"
      ],
      "execution_count": 0,
      "outputs": []
    },
    {
      "cell_type": "code",
      "metadata": {
        "id": "RJGcqHhW84QM",
        "colab_type": "code",
        "colab": {}
      },
      "source": [
        "fix_length = 24\n",
        "TEXT = data.Field(sequential=True, tokenize=\"spacy\", fix_length=fix_length)\n",
        "LABEL = data.LabelField(dtype=torch.long, sequential=False)"
      ],
      "execution_count": 0,
      "outputs": []
    },
    {
      "cell_type": "code",
      "metadata": {
        "id": "8eaSQMx2K5to",
        "colab_type": "code",
        "colab": {}
      },
      "source": [
        "train_data, test_data = data.TabularDataset.splits(\n",
        "    path=\"torchtext_data/\", train=\"train.csv\", \n",
        "    test=\"test.csv\",format=\"csv\", skip_header=True, \n",
        "    fields=[('Text', TEXT), ('Label', LABEL)]\n",
        ")"
      ],
      "execution_count": 0,
      "outputs": []
    },
    {
      "cell_type": "code",
      "metadata": {
        "id": "BYbvzffMMKEs",
        "colab_type": "code",
        "colab": {}
      },
      "source": [
        "batch_size = 16\n",
        "\n",
        "train_iterator, test_iterator = data.BucketIterator.splits(\n",
        "    (train_data, test_data), sort_key=lambda x: len(x.Text),\n",
        "    batch_size=batch_size,\n",
        "    device=device)"
      ],
      "execution_count": 0,
      "outputs": []
    },
    {
      "cell_type": "code",
      "metadata": {
        "id": "7exuCQUpMMQ0",
        "colab_type": "code",
        "colab": {
          "base_uri": "https://localhost:8080/",
          "height": 52
        },
        "outputId": "d110d269-50d4-40ca-d63f-c72052a15715"
      },
      "source": [
        "print(f'Number of training examples: {len(train_data)}')\n",
        "print(f'Number of testing examples: {len(test_data)}')"
      ],
      "execution_count": 18,
      "outputs": [
        {
          "output_type": "stream",
          "text": [
            "Number of training examples: 22895\n",
            "Number of testing examples: 5724\n"
          ],
          "name": "stdout"
        }
      ]
    },
    {
      "cell_type": "markdown",
      "metadata": {
        "id": "3woO5khX-rjD",
        "colab_type": "text"
      },
      "source": [
        "Making vocabluary with GloVe with dimantion of 300:"
      ]
    },
    {
      "cell_type": "code",
      "metadata": {
        "id": "_pZltSV3-nQ5",
        "colab_type": "code",
        "colab": {}
      },
      "source": [
        "TEXT.build_vocab(train_data, vectors=GloVe(name='6B', dim=300))\n",
        "LABEL.build_vocab(train_data)"
      ],
      "execution_count": 0,
      "outputs": []
    },
    {
      "cell_type": "code",
      "metadata": {
        "id": "rDLwbpyU_osm",
        "colab_type": "code",
        "colab": {}
      },
      "source": [
        "word_embeddings = TEXT.vocab.vectors\n",
        "output_size = 2 #two classes\n",
        "num_layers = 1\n",
        "hidden_size = 128 #num of units in our NN\n",
        "embedding_length = 300 #dim of GloVe vector\n",
        "vocab_size = len(TEXT.vocab)"
      ],
      "execution_count": 0,
      "outputs": []
    },
    {
      "cell_type": "markdown",
      "metadata": {
        "id": "5ls7JtFSAHn6",
        "colab_type": "text"
      },
      "source": [
        "Defining the model:\n",
        "\n",
        "\n",
        "*   Simple LSTM - LSTMClassifier class \n",
        "*   LSTM with Attanrion - AttantionLSTMClassifier class \n",
        "*   Bidirectional LSTM - BidirectionalLSTMClassifier class\n",
        "*   Bidirectional LSTM with 2D MaxPool layer - LSTM2DMaxPoolClassifier class\n",
        "\n",
        "\n",
        "\n"
      ]
    },
    {
      "cell_type": "code",
      "metadata": {
        "id": "aWyTUxgj_HgM",
        "colab_type": "code",
        "colab": {}
      },
      "source": [
        "from LSTM2DMaxPool import *"
      ],
      "execution_count": 0,
      "outputs": []
    },
    {
      "cell_type": "code",
      "metadata": {
        "id": "1XIX2fK7AFKW",
        "colab_type": "code",
        "colab": {}
      },
      "source": [
        "model = LSTM2DMaxPoolClassifier(batch_size, output_size, hidden_size, vocab_size, embedding_length, num_layers, word_embeddings)"
      ],
      "execution_count": 0,
      "outputs": []
    },
    {
      "cell_type": "code",
      "metadata": {
        "id": "uiv6zysuCgtT",
        "colab_type": "code",
        "colab": {}
      },
      "source": [
        "optimizer = optim.Adam(model.parameters(), lr=0.000174282, weight_decay=4.62355e-05)\n",
        "criterion = nn.CrossEntropyLoss()"
      ],
      "execution_count": 0,
      "outputs": []
    },
    {
      "cell_type": "code",
      "metadata": {
        "id": "UQPqdzMnCp1c",
        "colab_type": "code",
        "colab": {}
      },
      "source": [
        "model = model.to(device)\n",
        "criterion = criterion.to(device)"
      ],
      "execution_count": 0,
      "outputs": []
    },
    {
      "cell_type": "code",
      "metadata": {
        "id": "g5xutdQXCwsH",
        "colab_type": "code",
        "colab": {}
      },
      "source": [
        "dataiter_dict = {'train': train_iterator, 'val': test_iterator}\n",
        "dataset_sizes = {'train':len(train_data), 'val':len(test_data)}"
      ],
      "execution_count": 0,
      "outputs": []
    },
    {
      "cell_type": "markdown",
      "metadata": {
        "id": "m7aFQTvSDekB",
        "colab_type": "text"
      },
      "source": [
        "Train model:"
      ]
    },
    {
      "cell_type": "code",
      "metadata": {
        "id": "Ov772HfUDb93",
        "colab_type": "code",
        "outputId": "11922803-7963-416f-c8fb-c8be3aa502a4",
        "colab": {
          "base_uri": "https://localhost:8080/",
          "height": 1000
        }
      },
      "source": [
        "model_fit, res = train_model(model,\n",
        "                             criterion,\n",
        "                             optimizer,\n",
        "                             scheduler = None,\n",
        "                             dataiter_dict = dataiter_dict,\n",
        "                             dataset_sizes = dataset_sizes,\n",
        "                             batch_size = batch_size,\n",
        "                             num_epochs=20)"
      ],
      "execution_count": 26,
      "outputs": [
        {
          "output_type": "stream",
          "text": [
            "starting\n",
            "Epoch 1/20\n",
            "----------\n",
            "train total loss: 0.8824 \n",
            "train sentiment_acc: 0.6914\n",
            "val total loss: 0.7712 \n",
            "val sentiment_acc: 0.7872\n",
            "saving with loss of 0.7711790041603632 improved over previous 200\n",
            "\n",
            "Epoch 2/20\n",
            "----------\n",
            "train total loss: 0.7408 \n",
            "train sentiment_acc: 0.8103\n",
            "val total loss: 0.7277 \n",
            "val sentiment_acc: 0.8208\n",
            "saving with loss of 0.7276738865820367 improved over previous 0.7711790041603632\n",
            "\n",
            "Epoch 3/20\n",
            "----------\n",
            "train total loss: 0.7052 \n",
            "train sentiment_acc: 0.8355\n",
            "val total loss: 0.7082 \n",
            "val sentiment_acc: 0.8286\n",
            "saving with loss of 0.7082381089778317 improved over previous 0.7276738865820367\n",
            "\n",
            "Epoch 4/20\n",
            "----------\n",
            "train total loss: 0.6775 \n",
            "train sentiment_acc: 0.8545\n",
            "val total loss: 0.7168 \n",
            "val sentiment_acc: 0.8220\n",
            "\n",
            "Epoch 5/20\n",
            "----------\n",
            "train total loss: 0.6574 \n",
            "train sentiment_acc: 0.8692\n",
            "val total loss: 0.6954 \n",
            "val sentiment_acc: 0.8414\n",
            "saving with loss of 0.6953721928646479 improved over previous 0.7082381089778317\n",
            "\n",
            "Epoch 6/20\n",
            "----------\n",
            "train total loss: 0.6418 \n",
            "train sentiment_acc: 0.8812\n",
            "val total loss: 0.6823 \n",
            "val sentiment_acc: 0.8510\n",
            "saving with loss of 0.6822973317320242 improved over previous 0.6953721928646479\n",
            "\n",
            "Epoch 7/20\n",
            "----------\n",
            "train total loss: 0.6298 \n",
            "train sentiment_acc: 0.8895\n",
            "val total loss: 0.6843 \n",
            "val sentiment_acc: 0.8468\n",
            "\n",
            "Epoch 8/20\n",
            "----------\n",
            "train total loss: 0.6185 \n",
            "train sentiment_acc: 0.8960\n",
            "val total loss: 0.6848 \n",
            "val sentiment_acc: 0.8492\n",
            "\n",
            "Epoch 9/20\n",
            "----------\n",
            "train total loss: 0.6095 \n",
            "train sentiment_acc: 0.9041\n",
            "val total loss: 0.6673 \n",
            "val sentiment_acc: 0.8588\n",
            "saving with loss of 0.6672800834323875 improved over previous 0.6822973317320242\n",
            "\n",
            "Epoch 10/20\n",
            "----------\n",
            "train total loss: 0.6037 \n",
            "train sentiment_acc: 0.9074\n",
            "val total loss: 0.6549 \n",
            "val sentiment_acc: 0.8681\n",
            "saving with loss of 0.6549339548096966 improved over previous 0.6672800834323875\n",
            "\n",
            "Epoch 11/20\n",
            "----------\n",
            "train total loss: 0.5935 \n",
            "train sentiment_acc: 0.9154\n",
            "val total loss: 0.6609 \n",
            "val sentiment_acc: 0.8653\n",
            "\n",
            "Epoch 12/20\n",
            "----------\n",
            "train total loss: 0.5890 \n",
            "train sentiment_acc: 0.9182\n",
            "val total loss: 0.6574 \n",
            "val sentiment_acc: 0.8681\n",
            "\n",
            "Epoch 13/20\n",
            "----------\n",
            "train total loss: 0.5868 \n",
            "train sentiment_acc: 0.9192\n",
            "val total loss: 0.6571 \n",
            "val sentiment_acc: 0.8665\n",
            "\n",
            "Epoch 14/20\n",
            "----------\n",
            "train total loss: 0.5802 \n",
            "train sentiment_acc: 0.9244\n",
            "val total loss: 0.6575 \n",
            "val sentiment_acc: 0.8695\n",
            "\n",
            "Epoch 15/20\n",
            "----------\n",
            "train total loss: 0.5765 \n",
            "train sentiment_acc: 0.9270\n",
            "val total loss: 0.6562 \n",
            "val sentiment_acc: 0.8700\n",
            "\n",
            "Epoch 16/20\n",
            "----------\n",
            "train total loss: 0.5776 \n",
            "train sentiment_acc: 0.9264\n",
            "val total loss: 0.6644 \n",
            "val sentiment_acc: 0.8632\n",
            "\n",
            "Epoch 17/20\n",
            "----------\n",
            "train total loss: 0.5716 \n",
            "train sentiment_acc: 0.9307\n",
            "val total loss: 0.6656 \n",
            "val sentiment_acc: 0.8625\n",
            "\n",
            "Epoch 18/20\n",
            "----------\n",
            "train total loss: 0.5662 \n",
            "train sentiment_acc: 0.9341\n",
            "val total loss: 0.6528 \n",
            "val sentiment_acc: 0.8718\n",
            "saving with loss of 0.6528069954248344 improved over previous 0.6549339548096966\n",
            "\n",
            "Epoch 19/20\n",
            "----------\n",
            "train total loss: 0.5674 \n",
            "train sentiment_acc: 0.9323\n",
            "val total loss: 0.6596 \n",
            "val sentiment_acc: 0.8643\n",
            "\n",
            "Epoch 20/20\n",
            "----------\n",
            "train total loss: 0.5618 \n",
            "train sentiment_acc: 0.9373\n",
            "val total loss: 0.6563 \n",
            "val sentiment_acc: 0.8707\n",
            "recall 0.8985\n",
            "\n",
            "Training complete in 2m 0s\n",
            "Best val loss: 0.652807\n"
          ],
          "name": "stdout"
        }
      ]
    },
    {
      "cell_type": "markdown",
      "metadata": {
        "id": "tmTTqHSNIoHf",
        "colab_type": "text"
      },
      "source": [
        "Lets see at test and train accuracy plots:"
      ]
    },
    {
      "cell_type": "code",
      "metadata": {
        "id": "KTUH1-7qD4T9",
        "colab_type": "code",
        "outputId": "bdd19e3e-254a-4ea0-d5b2-2c1a3d9e1547",
        "colab": {
          "base_uri": "https://localhost:8080/",
          "height": 278
        }
      },
      "source": [
        "plt.plot(res['train_acc'], label = 'Train Accuracy')\n",
        "plt.plot(res['val_acc'], label = 'Test Accuracy')\n",
        "plt.xlabel('Epoch')\n",
        "plt.legend()\n",
        "plt.show()"
      ],
      "execution_count": 27,
      "outputs": [
        {
          "output_type": "display_data",
          "data": {
            "image/png": "[encoded data removed]",
            "text/plain": [
              "<Figure size 432x288 with 1 Axes>"
            ]
          },
          "metadata": {
            "tags": []
          }
        }
      ]
    },
    {
      "cell_type": "markdown",
      "metadata": {
        "id": "A0BY02_FMk8I",
        "colab_type": "text"
      },
      "source": [
        "And confusion matrix:"
      ]
    },
    {
      "cell_type": "code",
      "metadata": {
        "id": "JAvurJUfLEAK",
        "colab_type": "code",
        "outputId": "feba08a1-2b44-4a54-a4a8-972b302135d9",
        "colab": {
          "base_uri": "https://localhost:8080/",
          "height": 107
        }
      },
      "source": [
        "pd.DataFrame(res['conf_matr'], index=['pred pos', 'pred neg'], columns=['actual pos', 'actual neg'])"
      ],
      "execution_count": 28,
      "outputs": [
        {
          "output_type": "execute_result",
          "data": {
            "text/html": [
              "<div>\n",
              "<style scoped>\n",
              "    .dataframe tbody tr th:only-of-type {\n",
              "        vertical-align: middle;\n",
              "    }\n",
              "\n",
              "    .dataframe tbody tr th {\n",
              "        vertical-align: top;\n",
              "    }\n",
              "\n",
              "    .dataframe thead th {\n",
              "        text-align: right;\n",
              "    }\n",
              "</style>\n",
              "<table border=\"1\" class=\"dataframe\">\n",
              "  <thead>\n",
              "    <tr style=\"text-align: right;\">\n",
              "      <th></th>\n",
              "      <th>actual pos</th>\n",
              "      <th>actual neg</th>\n",
              "    </tr>\n",
              "  </thead>\n",
              "  <tbody>\n",
              "    <tr>\n",
              "      <th>pred pos</th>\n",
              "      <td>2443</td>\n",
              "      <td>452</td>\n",
              "    </tr>\n",
              "    <tr>\n",
              "      <th>pred neg</th>\n",
              "      <td>276</td>\n",
              "      <td>2541</td>\n",
              "    </tr>\n",
              "  </tbody>\n",
              "</table>\n",
              "</div>"
            ],
            "text/plain": [
              "          actual pos  actual neg\n",
              "pred pos        2443         452\n",
              "pred neg         276        2541"
            ]
          },
          "metadata": {
            "tags": []
          },
          "execution_count": 28
        }
      ]
    },
    {
      "cell_type": "code",
      "metadata": {
        "id": "ksNMa1RzUZN9",
        "colab_type": "code",
        "outputId": "a9a69f03-5561-4086-ea0a-7b463188cfc2",
        "colab": {
          "base_uri": "https://localhost:8080/",
          "height": 121
        }
      },
      "source": [
        "pd.DataFrame([float(res['f1']),\n",
        "              float(res['precision']), \n",
        "              float(res['recall'])], \n",
        "              index = ['f1 score', 'precision', 'recall'],\n",
        "              columns=[''])"
      ],
      "execution_count": 29,
      "outputs": [
        {
          "output_type": "execute_result",
          "data": {
            "text/html": [
              "<div>\n",
              "<style scoped>\n",
              "    .dataframe tbody tr th:only-of-type {\n",
              "        vertical-align: middle;\n",
              "    }\n",
              "\n",
              "    .dataframe tbody tr th {\n",
              "        vertical-align: top;\n",
              "    }\n",
              "\n",
              "    .dataframe thead th {\n",
              "        text-align: right;\n",
              "    }\n",
              "</style>\n",
              "<table border=\"1\" class=\"dataframe\">\n",
              "  <thead>\n",
              "    <tr style=\"text-align: right;\">\n",
              "      <th></th>\n",
              "      <th></th>\n",
              "    </tr>\n",
              "  </thead>\n",
              "  <tbody>\n",
              "    <tr>\n",
              "      <th>f1 score</th>\n",
              "      <td>0.870324</td>\n",
              "    </tr>\n",
              "    <tr>\n",
              "      <th>precision</th>\n",
              "      <td>0.843869</td>\n",
              "    </tr>\n",
              "    <tr>\n",
              "      <th>recall</th>\n",
              "      <td>0.898492</td>\n",
              "    </tr>\n",
              "  </tbody>\n",
              "</table>\n",
              "</div>"
            ],
            "text/plain": [
              "                   \n",
              "f1 score   0.870324\n",
              "precision  0.843869\n",
              "recall     0.898492"
            ]
          },
          "metadata": {
            "tags": []
          },
          "execution_count": 29
        }
      ]
    },
    {
      "cell_type": "code",
      "metadata": {
        "id": "UNb7ssAx9d_p",
        "colab_type": "code",
        "colab": {}
      },
      "source": [
        ""
      ],
      "execution_count": 0,
      "outputs": []
    }
  ]
}