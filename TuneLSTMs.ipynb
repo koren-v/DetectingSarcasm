{
  "nbformat": 4,
  "nbformat_minor": 0,
  "metadata": {
    "colab": {
      "name": "TuneLSTMs.ipynb",
      "provenance": [],
      "collapsed_sections": []
    },
    "kernelspec": {
      "name": "python3",
      "display_name": "Python 3"
    },
    "accelerator": "GPU"
  },
  "cells": [
    {
      "cell_type": "code",
      "metadata": {
        "id": "Z781-5SuW-gm",
        "colab_type": "code",
        "colab": {}
      },
      "source": [
        "# !pip uninstall -q pyarrow\n",
        "# !pip uninstall -q pickle5\n",
        "# !pip install -q ray[debug]\n"
      ],
      "execution_count": 0,
      "outputs": []
    },
    {
      "cell_type": "code",
      "metadata": {
        "id": "Sin__9ZRoQ1j",
        "colab_type": "code",
        "colab": {}
      },
      "source": [
        "from ray import tune"
      ],
      "execution_count": 0,
      "outputs": []
    },
    {
      "cell_type": "code",
      "metadata": {
        "id": "N-hmcWkcKfgl",
        "colab_type": "code",
        "colab": {}
      },
      "source": [
        "import torch\n",
        "from torchtext import data\n",
        "\n",
        "import pandas as pd\n",
        "import numpy as np\n",
        "import torch.nn as nn\n",
        "import torch.optim as optim\n",
        "import torch.nn.functional as F\n",
        "import torchtext\n",
        "\n",
        "import spacy\n",
        "\n",
        "from torch.autograd import Variable\n",
        "\n",
        "import time\n",
        "import copy\n",
        "from torch.optim import lr_scheduler\n",
        "\n",
        "from torchtext.vocab import Vectors, GloVe\n",
        "from sklearn.model_selection import train_test_split\n",
        "from matplotlib.pyplot import plot"
      ],
      "execution_count": 0,
      "outputs": []
    },
    {
      "cell_type": "code",
      "metadata": {
        "id": "vlc1IyJHKodv",
        "colab_type": "code",
        "outputId": "05a25f1a-50f0-4d6c-8e23-3907501ee44c",
        "colab": {
          "base_uri": "https://localhost:8080/",
          "height": 197
        }
      },
      "source": [
        "df = pd.read_json(\"Sarcasm_Headlines_Dataset_v2.json\", lines=True)\n",
        "df = df.drop(['article_link'], axis=1)\n",
        "df.head()"
      ],
      "execution_count": 3,
      "outputs": [
        {
          "output_type": "execute_result",
          "data": {
            "text/html": [
              "<div>\n",
              "<style scoped>\n",
              "    .dataframe tbody tr th:only-of-type {\n",
              "        vertical-align: middle;\n",
              "    }\n",
              "\n",
              "    .dataframe tbody tr th {\n",
              "        vertical-align: top;\n",
              "    }\n",
              "\n",
              "    .dataframe thead th {\n",
              "        text-align: right;\n",
              "    }\n",
              "</style>\n",
              "<table border=\"1\" class=\"dataframe\">\n",
              "  <thead>\n",
              "    <tr style=\"text-align: right;\">\n",
              "      <th></th>\n",
              "      <th>is_sarcastic</th>\n",
              "      <th>headline</th>\n",
              "    </tr>\n",
              "  </thead>\n",
              "  <tbody>\n",
              "    <tr>\n",
              "      <th>0</th>\n",
              "      <td>1</td>\n",
              "      <td>thirtysomething scientists unveil doomsday clo...</td>\n",
              "    </tr>\n",
              "    <tr>\n",
              "      <th>1</th>\n",
              "      <td>0</td>\n",
              "      <td>dem rep. totally nails why congress is falling...</td>\n",
              "    </tr>\n",
              "    <tr>\n",
              "      <th>2</th>\n",
              "      <td>0</td>\n",
              "      <td>eat your veggies: 9 deliciously different recipes</td>\n",
              "    </tr>\n",
              "    <tr>\n",
              "      <th>3</th>\n",
              "      <td>1</td>\n",
              "      <td>inclement weather prevents liar from getting t...</td>\n",
              "    </tr>\n",
              "    <tr>\n",
              "      <th>4</th>\n",
              "      <td>1</td>\n",
              "      <td>mother comes pretty close to using word 'strea...</td>\n",
              "    </tr>\n",
              "  </tbody>\n",
              "</table>\n",
              "</div>"
            ],
            "text/plain": [
              "   is_sarcastic                                           headline\n",
              "0             1  thirtysomething scientists unveil doomsday clo...\n",
              "1             0  dem rep. totally nails why congress is falling...\n",
              "2             0  eat your veggies: 9 deliciously different recipes\n",
              "3             1  inclement weather prevents liar from getting t...\n",
              "4             1  mother comes pretty close to using word 'strea..."
            ]
          },
          "metadata": {
            "tags": []
          },
          "execution_count": 3
        }
      ]
    },
    {
      "cell_type": "code",
      "metadata": {
        "id": "2hB1Z7T1LBf7",
        "colab_type": "code",
        "colab": {}
      },
      "source": [
        "X = df['headline']\n",
        "y = df['is_sarcastic']\n",
        "\n",
        "X_train, X_test, y_train, y_test = train_test_split(X, y, test_size=0.20, random_state=42)"
      ],
      "execution_count": 0,
      "outputs": []
    },
    {
      "cell_type": "code",
      "metadata": {
        "id": "qBuknI15SXQ1",
        "colab_type": "code",
        "colab": {}
      },
      "source": [
        "train_data = pd.concat([X_train, y_train], axis=1)\n",
        "test_data = pd.concat([X_test, y_test], axis=1)"
      ],
      "execution_count": 0,
      "outputs": []
    },
    {
      "cell_type": "code",
      "metadata": {
        "id": "3_rKnEmeQo_u",
        "colab_type": "code",
        "outputId": "f08d5b50-fe5f-414c-b22e-c08fe361da19",
        "colab": {
          "base_uri": "https://localhost:8080/",
          "height": 34
        }
      },
      "source": [
        "!mkdir torchtext_data"
      ],
      "execution_count": 6,
      "outputs": [
        {
          "output_type": "stream",
          "text": [
            "mkdir: cannot create directory ‘torchtext_data’: File exists\n"
          ],
          "name": "stdout"
        }
      ]
    },
    {
      "cell_type": "code",
      "metadata": {
        "id": "rJhpqZp3QR6R",
        "colab_type": "code",
        "colab": {}
      },
      "source": [
        "train_data.to_csv(\"torchtext_data/train.csv\", index=False)\n",
        "test_data.to_csv(\"torchtext_data/test.csv\", index=False)"
      ],
      "execution_count": 0,
      "outputs": []
    },
    {
      "cell_type": "code",
      "metadata": {
        "id": "R6YuvHw0LhOp",
        "colab_type": "code",
        "colab": {}
      },
      "source": [
        "fix_length = 24\n",
        "TEXT = data.Field(sequential=True, tokenize=\"spacy\", fix_length=fix_length)\n",
        "LABEL = data.LabelField(dtype=torch.long, sequential=False)"
      ],
      "execution_count": 0,
      "outputs": []
    },
    {
      "cell_type": "code",
      "metadata": {
        "id": "l9jeDGZnROGV",
        "colab_type": "code",
        "colab": {}
      },
      "source": [
        "device = torch.device('cuda' if torch.cuda.is_available() else 'cpu')"
      ],
      "execution_count": 0,
      "outputs": []
    },
    {
      "cell_type": "code",
      "metadata": {
        "id": "wWBQe74bxbw4",
        "colab_type": "code",
        "colab": {}
      },
      "source": [
        "train_data, test_data = data.TabularDataset.splits(\n",
        "    path=\"torchtext_data/\", train=\"train.csv\", \n",
        "    test=\"test.csv\",format=\"csv\", skip_header=True, \n",
        "    fields=[('Text', TEXT), ('Label', LABEL)]\n",
        ")"
      ],
      "execution_count": 0,
      "outputs": []
    },
    {
      "cell_type": "code",
      "metadata": {
        "id": "FV1wc8S9RN2L",
        "colab_type": "code",
        "outputId": "16089bf1-3d3f-404d-b3f6-013e5bbb9acf",
        "colab": {
          "base_uri": "https://localhost:8080/",
          "height": 52
        }
      },
      "source": [
        "print(f'Number of training examples: {len(train_data)}')\n",
        "print(f'Number of testing examples: {len(test_data)}')"
      ],
      "execution_count": 11,
      "outputs": [
        {
          "output_type": "stream",
          "text": [
            "Number of training examples: 22895\n",
            "Number of testing examples: 5724\n"
          ],
          "name": "stdout"
        }
      ]
    },
    {
      "cell_type": "code",
      "metadata": {
        "id": "hVjx9-1cRNuQ",
        "colab_type": "code",
        "colab": {}
      },
      "source": [
        "TEXT.build_vocab(train_data, vectors=GloVe(name='6B', dim=300))"
      ],
      "execution_count": 0,
      "outputs": []
    },
    {
      "cell_type": "code",
      "metadata": {
        "id": "AfBKJ7J1kMQw",
        "colab_type": "code",
        "colab": {}
      },
      "source": [
        "LABEL.build_vocab(train_data)"
      ],
      "execution_count": 0,
      "outputs": []
    },
    {
      "cell_type": "code",
      "metadata": {
        "id": "EW5zWb9STvNH",
        "colab_type": "code",
        "outputId": "2002ce40-3a36-4d8b-9705-c668997bfddc",
        "colab": {
          "base_uri": "https://localhost:8080/",
          "height": 52
        }
      },
      "source": [
        "print(f\"Unique tokens in TEXT vocabulary: {len(TEXT.vocab)}\")\n",
        "print(f\"Unique tokens in LABEL vocabulary: {len(LABEL.vocab)}\")"
      ],
      "execution_count": 14,
      "outputs": [
        {
          "output_type": "stream",
          "text": [
            "Unique tokens in TEXT vocabulary: 24479\n",
            "Unique tokens in LABEL vocabulary: 2\n"
          ],
          "name": "stdout"
        }
      ]
    },
    {
      "cell_type": "code",
      "metadata": {
        "id": "gM74_Ey6CxDh",
        "colab_type": "code",
        "colab": {}
      },
      "source": [
        "from hyperopt import hp\n",
        "from ray.tune.suggest.hyperopt import HyperOptSearch\n",
        "from ray.tune.schedulers import ASHAScheduler\n",
        "\n",
        "from LSTM import *"
      ],
      "execution_count": 0,
      "outputs": []
    },
    {
      "cell_type": "code",
      "metadata": {
        "id": "n0xU9-k-YPTU",
        "colab_type": "code",
        "colab": {}
      },
      "source": [
        "def train(model, criterion, optimizer, train_iterator, batch_size):\n",
        "\n",
        "    model.train()  # Set model to training mode\n",
        "    phase = 'train'\n",
        "    # Iterate over data.\n",
        "    for batch in train_iterator:\n",
        "                \n",
        "      # zero the parameter gradients\n",
        "      optimizer.zero_grad()\n",
        "      # forward\n",
        "      # track history if only in train\n",
        "      with torch.set_grad_enabled(phase == 'train'):\n",
        "        text = batch.Text\n",
        "        label = batch.Label\n",
        "        label = torch.autograd.Variable(label).long()\n",
        "\n",
        "        if torch.cuda.is_available():\n",
        "          text = text.cuda()\n",
        "          label = label.cuda()\n",
        "        if (batch.Text.size()[1] is not batch_size):\n",
        "          continue\n",
        "                    \n",
        "        outputs = model(text)\n",
        "\n",
        "        outputs = F.softmax(outputs,dim=-1)\n",
        "                    \n",
        "        loss = criterion(outputs, label)\n",
        "\n",
        "        # backward + optimize only if in training phase\n",
        "                        \n",
        "        loss.backward()\n",
        "        optimizer.step()"
      ],
      "execution_count": 0,
      "outputs": []
    },
    {
      "cell_type": "code",
      "metadata": {
        "id": "IzZyql5Fd_Vq",
        "colab_type": "code",
        "colab": {}
      },
      "source": [
        "def test(model, criterion, optimizer, test_iterator, batch_size, test_size):\n",
        "\n",
        "    model.eval()   # Set model to evaluate mode\n",
        "\n",
        "    sentiment_corrects = 0\n",
        "    phase = 'val'\n",
        "    for batch in test_iterator:\n",
        "                \n",
        "      # zero the parameter gradients\n",
        "      optimizer.zero_grad()\n",
        "\n",
        "      # forward\n",
        "      # track history if only in train\n",
        "      with torch.set_grad_enabled(phase == 'train'):\n",
        "          text = batch.Text\n",
        "          label = batch.Label\n",
        "          label = torch.autograd.Variable(label).long()\n",
        "\n",
        "          if torch.cuda.is_available():\n",
        "              text = text.cuda()\n",
        "              label = label.cuda()\n",
        "          if (batch.Text.size()[1] is not batch_size):\n",
        "              continue\n",
        "                    \n",
        "          outputs = model(text)\n",
        "          outputs = F.softmax(outputs,dim=-1)\n",
        "                    \n",
        "          loss = criterion(outputs, label)\n",
        "\n",
        "          # statistics\n",
        "\n",
        "          sentiment_corrects += torch.sum(torch.max(outputs, 1)[1] == label) \n",
        "          sentiment_acc = float(sentiment_corrects) / test_size\n",
        "\n",
        "    return sentiment_acc"
      ],
      "execution_count": 0,
      "outputs": []
    },
    {
      "cell_type": "code",
      "metadata": {
        "id": "uMlGc4-0YPNa",
        "colab_type": "code",
        "colab": {}
      },
      "source": [
        "def train_lstm(config):\n",
        "\n",
        "    batch_size = 16\n",
        "    word_embeddings = TEXT.vocab.vectors\n",
        "    output_size = 2\n",
        "    num_layers = 1\n",
        "    hidden_size = config[\"hidden_size\"]\n",
        "    embedding_length = 300\n",
        "    vocab_size = len(TEXT.vocab)\n",
        "\n",
        "    train_data, test_data = data.TabularDataset.splits(\n",
        "      path=\"/content/torchtext_data/\", train=\"train.csv\", \n",
        "      test=\"test.csv\",format=\"csv\", skip_header=True, \n",
        "      fields=[('Text', TEXT), ('Label', LABEL)]\n",
        "      )\n",
        "    \n",
        "    train_iterator, test_iterator = data.BucketIterator.splits(\n",
        "      (train_data, test_data), sort_key=lambda x: len(x.Text),\n",
        "      batch_size=batch_size,\n",
        "      device=device)\n",
        "    \n",
        "    test_size = len(test_data)\n",
        "\n",
        "    model = LSTMClassifier(batch_size, output_size, hidden_size, vocab_size, embedding_length, num_layers, word_embeddings)\n",
        "\n",
        "    criterion = nn.CrossEntropyLoss()\n",
        "    optimizer = optim.Adam(model.parameters(), lr=config[\"lr\"], weight_decay=config[\"weight_decay\"])\n",
        "\n",
        "    model = model.to(device)\n",
        "    criterion = criterion.to(device)\n",
        "\n",
        "    for i in range(10):\n",
        "        train(model, criterion, optimizer, train_iterator, batch_size)\n",
        "        acc = test(model, criterion, optimizer, test_iterator, batch_size, test_size)\n",
        "        # Add logging statement here.\n",
        "        tune.track.log(mean_accuracy=acc)"
      ],
      "execution_count": 0,
      "outputs": []
    },
    {
      "cell_type": "code",
      "metadata": {
        "id": "Teo5SGDFCvqF",
        "colab_type": "code",
        "colab": {}
      },
      "source": [
        "space = {\n",
        "    \"lr\": hp.loguniform(\"lr\", np.log(0.001), np.log(0.00005)),\n",
        "    \"weight_decay\": hp.uniform(\"weight_decay\", 1e-5, 1e-4),\n",
        "    \"hidden_size\": hp.choice(\"hidden_size\", [32, 64, 128])\n",
        "}"
      ],
      "execution_count": 0,
      "outputs": []
    },
    {
      "cell_type": "code",
      "metadata": {
        "id": "iYsZIvqcCtYh",
        "colab_type": "code",
        "colab": {}
      },
      "source": [
        "hyperopt_search = HyperOptSearch(space, max_concurrent=5, metric=\"mean_accuracy\", mode=\"max\")"
      ],
      "execution_count": 0,
      "outputs": []
    },
    {
      "cell_type": "code",
      "metadata": {
        "id": "6DkMdNN2De9D",
        "colab_type": "code",
        "outputId": "df169ffa-1eab-481e-b7b9-b940b9c0dfff",
        "colab": {
          "base_uri": "https://localhost:8080/",
          "height": 491
        }
      },
      "source": [
        "analysis = tune.run(\n",
        "    train_lstm, \n",
        "    num_samples=16,  \n",
        "    search_alg=hyperopt_search,\n",
        "    scheduler=ASHAScheduler(metric=\"mean_accuracy\", mode=\"max\"),\n",
        "    verbose=1,\n",
        "    resources_per_trial={\"cpu\": 2, \"gpu\": 1}\n",
        ")"
      ],
      "execution_count": 21,
      "outputs": [
        {
          "output_type": "display_data",
          "data": {
            "text/html": [
              "== Status ==<br>Memory usage on this node: 3.8/12.7 GiB<br>Using AsyncHyperBand: num_stopped=15\n",
              "Bracket: Iter 64.000: None | Iter 16.000: None | Iter 4.000: 0.8475716282320056 | Iter 1.000: 0.8243798043326346<br>Resources requested: 0/2 CPUs, 0/1 GPUs, 0.0/5.03 GiB heap, 0.0/1.71 GiB objects<br>Result logdir: /root/ray_results/train_lstm<br>Number of trials: 16 (16 TERMINATED)<br><table>\n",
              "<thead>\n",
              "<tr><th>Trial name         </th><th>status    </th><th>loc  </th><th style=\"text-align: right;\">         lr</th><th style=\"text-align: right;\">  weight_decay</th><th style=\"text-align: right;\">  hidden_size</th><th style=\"text-align: right;\">  iter</th><th style=\"text-align: right;\">  total time (s)</th><th style=\"text-align: right;\">     acc</th></tr>\n",
              "</thead>\n",
              "<tbody>\n",
              "<tr><td>train_lstm_cec0f00a</td><td>TERMINATED</td><td>     </td><td style=\"text-align: right;\">0.000551837</td><td style=\"text-align: right;\">   9.72328e-05</td><td style=\"text-align: right;\">           64</td><td style=\"text-align: right;\">     9</td><td style=\"text-align: right;\">        112.074 </td><td style=\"text-align: right;\">0.852201</td></tr>\n",
              "<tr><td>train_lstm_cf7ee632</td><td>TERMINATED</td><td>     </td><td style=\"text-align: right;\">0.000237535</td><td style=\"text-align: right;\">   6.97123e-05</td><td style=\"text-align: right;\">           64</td><td style=\"text-align: right;\">     1</td><td style=\"text-align: right;\">         33.0923</td><td style=\"text-align: right;\">0.790706</td></tr>\n",
              "<tr><td>train_lstm_d0351aba</td><td>TERMINATED</td><td>     </td><td style=\"text-align: right;\">0.000166456</td><td style=\"text-align: right;\">   9.83462e-05</td><td style=\"text-align: right;\">          128</td><td style=\"text-align: right;\">     1</td><td style=\"text-align: right;\">         33.7733</td><td style=\"text-align: right;\">0.772013</td></tr>\n",
              "<tr><td>train_lstm_d0f0ddd6</td><td>TERMINATED</td><td>     </td><td style=\"text-align: right;\">0.000735792</td><td style=\"text-align: right;\">   3.21844e-05</td><td style=\"text-align: right;\">           64</td><td style=\"text-align: right;\">     4</td><td style=\"text-align: right;\">         62.7638</td><td style=\"text-align: right;\">0.842942</td></tr>\n",
              "<tr><td>train_lstm_d1ad1aa0</td><td>TERMINATED</td><td>     </td><td style=\"text-align: right;\">0.000142782</td><td style=\"text-align: right;\">   6.97006e-05</td><td style=\"text-align: right;\">           64</td><td style=\"text-align: right;\">     1</td><td style=\"text-align: right;\">         33.4386</td><td style=\"text-align: right;\">0.769916</td></tr>\n",
              "<tr><td>train_lstm_d26a04a8</td><td>TERMINATED</td><td>     </td><td style=\"text-align: right;\">0.000927294</td><td style=\"text-align: right;\">   1.11936e-05</td><td style=\"text-align: right;\">           32</td><td style=\"text-align: right;\">     4</td><td style=\"text-align: right;\">         62.8061</td><td style=\"text-align: right;\">0.846087</td></tr>\n",
              "<tr><td>train_lstm_191f2c02</td><td>TERMINATED</td><td>     </td><td style=\"text-align: right;\">0.000513134</td><td style=\"text-align: right;\">   4.3997e-05 </td><td style=\"text-align: right;\">           32</td><td style=\"text-align: right;\">     1</td><td style=\"text-align: right;\">         33.4202</td><td style=\"text-align: right;\">0.818134</td></tr>\n",
              "<tr><td>train_lstm_2fcecd4a</td><td>TERMINATED</td><td>     </td><td style=\"text-align: right;\">0.000826127</td><td style=\"text-align: right;\">   1.60103e-05</td><td style=\"text-align: right;\">           32</td><td style=\"text-align: right;\">     4</td><td style=\"text-align: right;\">         62.8595</td><td style=\"text-align: right;\">0.845038</td></tr>\n",
              "<tr><td>train_lstm_474a25c8</td><td>TERMINATED</td><td>     </td><td style=\"text-align: right;\">0.000146611</td><td style=\"text-align: right;\">   2.58397e-05</td><td style=\"text-align: right;\">           64</td><td style=\"text-align: right;\">     1</td><td style=\"text-align: right;\">         33.4719</td><td style=\"text-align: right;\">0.776555</td></tr>\n",
              "<tr><td>train_lstm_7009516e</td><td>TERMINATED</td><td>     </td><td style=\"text-align: right;\">0.000570429</td><td style=\"text-align: right;\">   1.84339e-05</td><td style=\"text-align: right;\">           32</td><td style=\"text-align: right;\">     1</td><td style=\"text-align: right;\">         33.3012</td><td style=\"text-align: right;\">0.800489</td></tr>\n",
              "<tr><td>train_lstm_8753ed20</td><td>TERMINATED</td><td>     </td><td style=\"text-align: right;\">5.14248e-05</td><td style=\"text-align: right;\">   4.11015e-05</td><td style=\"text-align: right;\">          128</td><td style=\"text-align: right;\">     1</td><td style=\"text-align: right;\">         33.8547</td><td style=\"text-align: right;\">0.751398</td></tr>\n",
              "<tr><td>train_lstm_b0173834</td><td>TERMINATED</td><td>     </td><td style=\"text-align: right;\">0.000467227</td><td style=\"text-align: right;\">   9.19316e-05</td><td style=\"text-align: right;\">          128</td><td style=\"text-align: right;\">     1</td><td style=\"text-align: right;\">         33.7009</td><td style=\"text-align: right;\">0.789308</td></tr>\n",
              "<tr><td>train_lstm_c75892a4</td><td>TERMINATED</td><td>     </td><td style=\"text-align: right;\">0.00061704 </td><td style=\"text-align: right;\">   4.62512e-05</td><td style=\"text-align: right;\">           32</td><td style=\"text-align: right;\">     1</td><td style=\"text-align: right;\">         33.3266</td><td style=\"text-align: right;\">0.824249</td></tr>\n",
              "<tr><td>train_lstm_f032b1dc</td><td>TERMINATED</td><td>     </td><td style=\"text-align: right;\">0.000125499</td><td style=\"text-align: right;\">   3.26781e-05</td><td style=\"text-align: right;\">           64</td><td style=\"text-align: right;\">     1</td><td style=\"text-align: right;\">         33.6905</td><td style=\"text-align: right;\">0.781272</td></tr>\n",
              "<tr><td>train_lstm_076f784e</td><td>TERMINATED</td><td>     </td><td style=\"text-align: right;\">0.000124915</td><td style=\"text-align: right;\">   3.86893e-05</td><td style=\"text-align: right;\">          128</td><td style=\"text-align: right;\">     1</td><td style=\"text-align: right;\">         34.0837</td><td style=\"text-align: right;\">0.785639</td></tr>\n",
              "<tr><td>train_lstm_1ea42bea</td><td>TERMINATED</td><td>     </td><td style=\"text-align: right;\">0.000212617</td><td style=\"text-align: right;\">   6.56256e-05</td><td style=\"text-align: right;\">           64</td><td style=\"text-align: right;\">     1</td><td style=\"text-align: right;\">         33.9132</td><td style=\"text-align: right;\">0.783543</td></tr>\n",
              "</tbody>\n",
              "</table><br><br>"
            ],
            "text/plain": [
              "<IPython.core.display.HTML object>"
            ]
          },
          "metadata": {
            "tags": []
          }
        },
        {
          "output_type": "stream",
          "text": [
            "2020-01-08 12:01:52,244\tINFO tune.py:334 -- Returning an analysis object by default. You can call `analysis.trials` to retrieve a list of trials. This message will be removed in future versions of Tune.\n"
          ],
          "name": "stderr"
        }
      ]
    },
    {
      "cell_type": "code",
      "metadata": {
        "id": "13HG70xGD3x-",
        "colab_type": "code",
        "outputId": "809e31dc-58da-445e-adff-f892ecbe45b2",
        "colab": {
          "base_uri": "https://localhost:8080/",
          "height": 264
        }
      },
      "source": [
        "dfs = analysis.trial_dataframes\n",
        "\n",
        "# Plot by epoch\n",
        "ax = None  # This plots everything on the same plot\n",
        "for d in dfs.values():\n",
        "    ax = d.mean_accuracy.plot(ax=ax, legend=False)\n"
      ],
      "execution_count": 22,
      "outputs": [
        {
          "output_type": "display_data",
          "data": {
            "image/png": "[encoded data removed]",
            "text/plain": [
              "<Figure size 432x288 with 1 Axes>"
            ]
          },
          "metadata": {
            "tags": []
          }
        }
      ]
    },
    {
      "cell_type": "code",
      "metadata": {
        "id": "tyt3poJVDbMc",
        "colab_type": "code",
        "colab": {}
      },
      "source": [
        "from AttantionLSTM import *"
      ],
      "execution_count": 0,
      "outputs": []
    },
    {
      "cell_type": "code",
      "metadata": {
        "id": "7FJcPqVFu3hi",
        "colab_type": "code",
        "colab": {}
      },
      "source": [
        "def train_att_lstm(config):\n",
        "\n",
        "    batch_size = 16\n",
        "    word_embeddings = TEXT.vocab.vectors\n",
        "    output_size = 2\n",
        "    num_layers = 1\n",
        "    hidden_size = config[\"hidden_size\"]\n",
        "    embedding_length = 300\n",
        "    vocab_size = len(TEXT.vocab)\n",
        "\n",
        "    train_data, test_data = data.TabularDataset.splits(\n",
        "      path=\"/content/torchtext_data/\", train=\"train.csv\", \n",
        "      test=\"test.csv\",format=\"csv\", skip_header=True, \n",
        "      fields=[('Text', TEXT), ('Label', LABEL)]\n",
        "      )\n",
        "    \n",
        "    train_iterator, test_iterator = data.BucketIterator.splits(\n",
        "      (train_data, test_data), sort_key=lambda x: len(x.Text),\n",
        "      batch_size=batch_size,\n",
        "      device=device)\n",
        "    \n",
        "    test_size = len(test_data)\n",
        "\n",
        "    model = AttantionLSTMClassifier(batch_size, output_size, hidden_size, vocab_size, embedding_length, num_layers, word_embeddings)\n",
        "\n",
        "    criterion = nn.CrossEntropyLoss()\n",
        "    optimizer = optim.Adam(model.parameters(), lr=config[\"lr\"], weight_decay=config[\"weight_decay\"])\n",
        "\n",
        "    model = model.to(device)\n",
        "    criterion = criterion.to(device)\n",
        "\n",
        "    for i in range(10):\n",
        "        train(model, criterion, optimizer, train_iterator, batch_size)\n",
        "        acc = test(model, criterion, optimizer, test_iterator, batch_size, test_size)\n",
        "        # Add logging statement here.\n",
        "        tune.track.log(mean_accuracy=acc)"
      ],
      "execution_count": 0,
      "outputs": []
    },
    {
      "cell_type": "code",
      "metadata": {
        "id": "BNumuFuiDiJz",
        "colab_type": "code",
        "colab": {}
      },
      "source": [
        "space = {\n",
        "    \"lr\": hp.loguniform(\"lr\", np.log(0.001), np.log(0.00005)),\n",
        "    \"weight_decay\": hp.uniform(\"weight_decay\", 1e-5, 1e-4),\n",
        "    \"hidden_size\": hp.choice(\"hidden_size\", [32, 64, 128])\n",
        "}"
      ],
      "execution_count": 0,
      "outputs": []
    },
    {
      "cell_type": "code",
      "metadata": {
        "id": "eEkenruuDnfD",
        "colab_type": "code",
        "colab": {}
      },
      "source": [
        "hyperopt_search = HyperOptSearch(space, max_concurrent=5, metric=\"mean_accuracy\", mode=\"max\")"
      ],
      "execution_count": 0,
      "outputs": []
    },
    {
      "cell_type": "code",
      "metadata": {
        "id": "suAUaTD_Dq8d",
        "colab_type": "code",
        "colab": {
          "base_uri": "https://localhost:8080/",
          "height": 491
        },
        "outputId": "1c588667-51f5-4bb6-96ee-9e377fb67209"
      },
      "source": [
        "analysis_att = tune.run(\n",
        "    train_att_lstm, \n",
        "    num_samples=16,  \n",
        "    search_alg=hyperopt_search,\n",
        "    scheduler=ASHAScheduler(metric=\"mean_accuracy\", mode=\"max\"),\n",
        "    verbose=1,\n",
        "    resources_per_trial={\"cpu\": 2, \"gpu\": 1}\n",
        ")"
      ],
      "execution_count": 27,
      "outputs": [
        {
          "output_type": "display_data",
          "data": {
            "text/html": [
              "== Status ==<br>Memory usage on this node: 3.9/12.7 GiB<br>Using AsyncHyperBand: num_stopped=14\n",
              "Bracket: Iter 64.000: None | Iter 16.000: None | Iter 4.000: 0.8551712089447938 | Iter 1.000: 0.8221086652690426<br>Resources requested: 0/2 CPUs, 0/1 GPUs, 0.0/5.03 GiB heap, 0.0/1.71 GiB objects<br>Result logdir: /root/ray_results/train_att_lstm<br>Number of trials: 16 (16 TERMINATED)<br><table>\n",
              "<thead>\n",
              "<tr><th>Trial name             </th><th>status    </th><th>loc  </th><th style=\"text-align: right;\">         lr</th><th style=\"text-align: right;\">  weight_decay</th><th style=\"text-align: right;\">  hidden_size</th><th style=\"text-align: right;\">  iter</th><th style=\"text-align: right;\">  total time (s)</th><th style=\"text-align: right;\">     acc</th></tr>\n",
              "</thead>\n",
              "<tbody>\n",
              "<tr><td>train_att_lstm_c53e647e</td><td>TERMINATED</td><td>     </td><td style=\"text-align: right;\">0.000325071</td><td style=\"text-align: right;\">   1.70635e-05</td><td style=\"text-align: right;\">           64</td><td style=\"text-align: right;\">     9</td><td style=\"text-align: right;\">         66.9333</td><td style=\"text-align: right;\">0.857617</td></tr>\n",
              "<tr><td>train_att_lstm_c5f1836a</td><td>TERMINATED</td><td>     </td><td style=\"text-align: right;\">0.00019152 </td><td style=\"text-align: right;\">   6.52311e-05</td><td style=\"text-align: right;\">           32</td><td style=\"text-align: right;\">     1</td><td style=\"text-align: right;\">         24.0623</td><td style=\"text-align: right;\">0.804682</td></tr>\n",
              "<tr><td>train_att_lstm_c6a3f43c</td><td>TERMINATED</td><td>     </td><td style=\"text-align: right;\">8.94241e-05</td><td style=\"text-align: right;\">   9.92408e-05</td><td style=\"text-align: right;\">          128</td><td style=\"text-align: right;\">     1</td><td style=\"text-align: right;\">         24.347 </td><td style=\"text-align: right;\">0.786688</td></tr>\n",
              "<tr><td>train_att_lstm_c7571008</td><td>TERMINATED</td><td>     </td><td style=\"text-align: right;\">0.000791313</td><td style=\"text-align: right;\">   4.58864e-05</td><td style=\"text-align: right;\">           32</td><td style=\"text-align: right;\">     9</td><td style=\"text-align: right;\">         65.0351</td><td style=\"text-align: right;\">0.864081</td></tr>\n",
              "<tr><td>train_att_lstm_c80da69c</td><td>TERMINATED</td><td>     </td><td style=\"text-align: right;\">0.000514796</td><td style=\"text-align: right;\">   3.70246e-05</td><td style=\"text-align: right;\">           32</td><td style=\"text-align: right;\">     4</td><td style=\"text-align: right;\">         39.5311</td><td style=\"text-align: right;\">0.853075</td></tr>\n",
              "<tr><td>train_att_lstm_c8c1dc52</td><td>TERMINATED</td><td>     </td><td style=\"text-align: right;\">0.000779135</td><td style=\"text-align: right;\">   4.12996e-05</td><td style=\"text-align: right;\">          128</td><td style=\"text-align: right;\">     1</td><td style=\"text-align: right;\">         24.3947</td><td style=\"text-align: right;\">0.607792</td></tr>\n",
              "<tr><td>train_att_lstm_f3f2c698</td><td>TERMINATED</td><td>     </td><td style=\"text-align: right;\">0.000171891</td><td style=\"text-align: right;\">   6.64203e-05</td><td style=\"text-align: right;\">          128</td><td style=\"text-align: right;\">     1</td><td style=\"text-align: right;\">         24.382 </td><td style=\"text-align: right;\">0.816562</td></tr>\n",
              "<tr><td>train_att_lstm_05a1fbac</td><td>TERMINATED</td><td>     </td><td style=\"text-align: right;\">0.000300024</td><td style=\"text-align: right;\">   4.0482e-05 </td><td style=\"text-align: right;\">           64</td><td style=\"text-align: right;\">     4</td><td style=\"text-align: right;\">         39.7019</td><td style=\"text-align: right;\">0.828791</td></tr>\n",
              "<tr><td>train_att_lstm_179036a8</td><td>TERMINATED</td><td>     </td><td style=\"text-align: right;\">0.000114338</td><td style=\"text-align: right;\">   7.29056e-05</td><td style=\"text-align: right;\">           32</td><td style=\"text-align: right;\">     1</td><td style=\"text-align: right;\">         24.5679</td><td style=\"text-align: right;\">0.795423</td></tr>\n",
              "<tr><td>train_att_lstm_4205ce70</td><td>TERMINATED</td><td>     </td><td style=\"text-align: right;\">0.000129729</td><td style=\"text-align: right;\">   8.50835e-05</td><td style=\"text-align: right;\">           64</td><td style=\"text-align: right;\">     1</td><td style=\"text-align: right;\">         24.0136</td><td style=\"text-align: right;\">0.79717 </td></tr>\n",
              "<tr><td>train_att_lstm_5ce49640</td><td>TERMINATED</td><td>     </td><td style=\"text-align: right;\">0.000138912</td><td style=\"text-align: right;\">   8.68285e-05</td><td style=\"text-align: right;\">           32</td><td style=\"text-align: right;\">     1</td><td style=\"text-align: right;\">         24.2619</td><td style=\"text-align: right;\">0.805031</td></tr>\n",
              "<tr><td>train_att_lstm_6ebea766</td><td>TERMINATED</td><td>     </td><td style=\"text-align: right;\">0.000155286</td><td style=\"text-align: right;\">   6.20222e-05</td><td style=\"text-align: right;\">           64</td><td style=\"text-align: right;\">     1</td><td style=\"text-align: right;\">         24.2837</td><td style=\"text-align: right;\">0.807128</td></tr>\n",
              "<tr><td>train_att_lstm_8099396a</td><td>TERMINATED</td><td>     </td><td style=\"text-align: right;\">0.000359354</td><td style=\"text-align: right;\">   2.89566e-05</td><td style=\"text-align: right;\">           32</td><td style=\"text-align: right;\">     1</td><td style=\"text-align: right;\">         24.111 </td><td style=\"text-align: right;\">0.819182</td></tr>\n",
              "<tr><td>train_att_lstm_9b99b8a2</td><td>TERMINATED</td><td>     </td><td style=\"text-align: right;\">0.00073713 </td><td style=\"text-align: right;\">   6.08409e-05</td><td style=\"text-align: right;\">          128</td><td style=\"text-align: right;\">     4</td><td style=\"text-align: right;\">         39.9368</td><td style=\"text-align: right;\">0.845737</td></tr>\n",
              "<tr><td>train_att_lstm_ad9dc85e</td><td>TERMINATED</td><td>     </td><td style=\"text-align: right;\">8.81364e-05</td><td style=\"text-align: right;\">   3.86948e-05</td><td style=\"text-align: right;\">           64</td><td style=\"text-align: right;\">     1</td><td style=\"text-align: right;\">         24.1618</td><td style=\"text-align: right;\">0.792278</td></tr>\n",
              "<tr><td>train_att_lstm_bf3ebc3a</td><td>TERMINATED</td><td>     </td><td style=\"text-align: right;\">0.000245447</td><td style=\"text-align: right;\">   6.66164e-05</td><td style=\"text-align: right;\">           64</td><td style=\"text-align: right;\">     1</td><td style=\"text-align: right;\">         23.9887</td><td style=\"text-align: right;\">0.821104</td></tr>\n",
              "</tbody>\n",
              "</table><br><br>"
            ],
            "text/plain": [
              "<IPython.core.display.HTML object>"
            ]
          },
          "metadata": {
            "tags": []
          }
        },
        {
          "output_type": "stream",
          "text": [
            "2020-01-08 12:19:58,667\tINFO tune.py:334 -- Returning an analysis object by default. You can call `analysis.trials` to retrieve a list of trials. This message will be removed in future versions of Tune.\n"
          ],
          "name": "stderr"
        }
      ]
    },
    {
      "cell_type": "code",
      "metadata": {
        "id": "C7b9bcSXGecG",
        "colab_type": "code",
        "colab": {
          "base_uri": "https://localhost:8080/",
          "height": 264
        },
        "outputId": "5e4a0b0a-c5f8-441b-a232-886fdf89d1b8"
      },
      "source": [
        "dfs = analysis_att.trial_dataframes\n",
        "\n",
        "# Plot by epoch\n",
        "ax = None  # This plots everything on the same plot\n",
        "for d in dfs.values():\n",
        "    ax = d.mean_accuracy.plot(ax=ax, legend=False)"
      ],
      "execution_count": 28,
      "outputs": [
        {
          "output_type": "display_data",
          "data": {
            "image/png": "[encoded data removed]",
            "text/plain": [
              "<Figure size 432x288 with 1 Axes>"
            ]
          },
          "metadata": {
            "tags": []
          }
        }
      ]
    },
    {
      "cell_type": "code",
      "metadata": {
        "id": "gVowZYQ8GlyI",
        "colab_type": "code",
        "colab": {}
      },
      "source": [
        "from BidiractionalLSTM import *"
      ],
      "execution_count": 0,
      "outputs": []
    },
    {
      "cell_type": "code",
      "metadata": {
        "id": "uou2rN--G3uz",
        "colab_type": "code",
        "colab": {}
      },
      "source": [
        "def train_bi_lstm(config):\n",
        "\n",
        "    batch_size = 16\n",
        "    word_embeddings = TEXT.vocab.vectors\n",
        "    output_size = 2\n",
        "    num_layers = 1\n",
        "    hidden_size = config[\"hidden_size\"]\n",
        "    embedding_length = 300\n",
        "    vocab_size = len(TEXT.vocab)\n",
        "\n",
        "    train_data, test_data = data.TabularDataset.splits(\n",
        "      path=\"/content/torchtext_data/\", train=\"train.csv\", \n",
        "      test=\"test.csv\",format=\"csv\", skip_header=True, \n",
        "      fields=[('Text', TEXT), ('Label', LABEL)]\n",
        "      )\n",
        "    \n",
        "    train_iterator, test_iterator = data.BucketIterator.splits(\n",
        "      (train_data, test_data), sort_key=lambda x: len(x.Text),\n",
        "      batch_size=batch_size,\n",
        "      device=device)\n",
        "    \n",
        "    test_size = len(test_data)\n",
        "\n",
        "    model = BidirectionalLSTMClassifier(batch_size, output_size, hidden_size, vocab_size, embedding_length, num_layers, word_embeddings)\n",
        "\n",
        "    criterion = nn.CrossEntropyLoss()\n",
        "    optimizer = optim.Adam(model.parameters(), lr=config[\"lr\"], weight_decay=config[\"weight_decay\"])\n",
        "\n",
        "    model = model.to(device)\n",
        "    criterion = criterion.to(device)\n",
        "\n",
        "    for i in range(10):\n",
        "        train(model, criterion, optimizer, train_iterator, batch_size)\n",
        "        acc = test(model, criterion, optimizer, test_iterator, batch_size, test_size)\n",
        "        # Add logging statement here.\n",
        "        tune.track.log(mean_accuracy=acc)"
      ],
      "execution_count": 0,
      "outputs": []
    },
    {
      "cell_type": "code",
      "metadata": {
        "id": "VwLrQ0KeG6ca",
        "colab_type": "code",
        "colab": {}
      },
      "source": [
        "space = {\n",
        "    \"lr\": hp.loguniform(\"lr\", np.log(0.001), np.log(0.00005)),\n",
        "    \"weight_decay\": hp.uniform(\"weight_decay\", 1e-5, 1e-4),\n",
        "    \"hidden_size\": hp.choice(\"hidden_size\", [32, 64, 128])\n",
        "}"
      ],
      "execution_count": 0,
      "outputs": []
    },
    {
      "cell_type": "code",
      "metadata": {
        "id": "jhrm_AXcG9Qn",
        "colab_type": "code",
        "colab": {}
      },
      "source": [
        "hyperopt_search = HyperOptSearch(space, max_concurrent=5, metric=\"mean_accuracy\", mode=\"max\")"
      ],
      "execution_count": 0,
      "outputs": []
    },
    {
      "cell_type": "code",
      "metadata": {
        "id": "pEFDLIO5HAVu",
        "colab_type": "code",
        "colab": {
          "base_uri": "https://localhost:8080/",
          "height": 491
        },
        "outputId": "c910bee8-4fa6-453f-c7c9-c298935751a3"
      },
      "source": [
        "analysis_bi = tune.run(\n",
        "    train_bi_lstm, \n",
        "    num_samples=16,  \n",
        "    search_alg=hyperopt_search,\n",
        "    scheduler=ASHAScheduler(metric=\"mean_accuracy\", mode=\"max\"),\n",
        "    verbose=1,\n",
        "    resources_per_trial={\"cpu\": 2, \"gpu\": 1}\n",
        ")"
      ],
      "execution_count": 33,
      "outputs": [
        {
          "output_type": "display_data",
          "data": {
            "text/html": [
              "== Status ==<br>Memory usage on this node: 4.1/12.7 GiB<br>Using AsyncHyperBand: num_stopped=11\n",
              "Bracket: Iter 64.000: None | Iter 16.000: None | Iter 4.000: 0.8550401816911251 | Iter 1.000: 0.8175663871418588<br>Resources requested: 0/2 CPUs, 0/1 GPUs, 0.0/5.03 GiB heap, 0.0/1.71 GiB objects<br>Result logdir: /root/ray_results/train_bi_lstm<br>Number of trials: 16 (16 TERMINATED)<br><table>\n",
              "<thead>\n",
              "<tr><th>Trial name            </th><th>status    </th><th>loc  </th><th style=\"text-align: right;\">         lr</th><th style=\"text-align: right;\">  weight_decay</th><th style=\"text-align: right;\">  hidden_size</th><th style=\"text-align: right;\">  iter</th><th style=\"text-align: right;\">  total time (s)</th><th style=\"text-align: right;\">     acc</th></tr>\n",
              "</thead>\n",
              "<tbody>\n",
              "<tr><td>train_bi_lstm_46112e22</td><td>TERMINATED</td><td>     </td><td style=\"text-align: right;\">6.59281e-05</td><td style=\"text-align: right;\">   1.51984e-05</td><td style=\"text-align: right;\">           32</td><td style=\"text-align: right;\">     9</td><td style=\"text-align: right;\">         85.3758</td><td style=\"text-align: right;\">0.81499 </td></tr>\n",
              "<tr><td>train_bi_lstm_46cca724</td><td>TERMINATED</td><td>     </td><td style=\"text-align: right;\">0.00070061 </td><td style=\"text-align: right;\">   3.95744e-05</td><td style=\"text-align: right;\">          128</td><td style=\"text-align: right;\">     9</td><td style=\"text-align: right;\">         88.701 </td><td style=\"text-align: right;\">0.857966</td></tr>\n",
              "<tr><td>train_bi_lstm_47839556</td><td>TERMINATED</td><td>     </td><td style=\"text-align: right;\">5.6321e-05 </td><td style=\"text-align: right;\">   9.42306e-05</td><td style=\"text-align: right;\">           64</td><td style=\"text-align: right;\">     1</td><td style=\"text-align: right;\">         28.74  </td><td style=\"text-align: right;\">0.739518</td></tr>\n",
              "<tr><td>train_bi_lstm_483ae1de</td><td>TERMINATED</td><td>     </td><td style=\"text-align: right;\">0.000946381</td><td style=\"text-align: right;\">   6.24615e-05</td><td style=\"text-align: right;\">           64</td><td style=\"text-align: right;\">     1</td><td style=\"text-align: right;\">         28.5275</td><td style=\"text-align: right;\">0.642208</td></tr>\n",
              "<tr><td>train_bi_lstm_48f03b38</td><td>TERMINATED</td><td>     </td><td style=\"text-align: right;\">5.20975e-05</td><td style=\"text-align: right;\">   3.28375e-05</td><td style=\"text-align: right;\">           32</td><td style=\"text-align: right;\">     1</td><td style=\"text-align: right;\">         28.4568</td><td style=\"text-align: right;\">0.685535</td></tr>\n",
              "<tr><td>train_bi_lstm_49a7403a</td><td>TERMINATED</td><td>     </td><td style=\"text-align: right;\">0.000632791</td><td style=\"text-align: right;\">   9.50258e-05</td><td style=\"text-align: right;\">          128</td><td style=\"text-align: right;\">     9</td><td style=\"text-align: right;\">         88.8747</td><td style=\"text-align: right;\">0.863033</td></tr>\n",
              "<tr><td>train_bi_lstm_7fecb800</td><td>TERMINATED</td><td>     </td><td style=\"text-align: right;\">0.000195301</td><td style=\"text-align: right;\">   6.26883e-05</td><td style=\"text-align: right;\">          128</td><td style=\"text-align: right;\">     4</td><td style=\"text-align: right;\">         50.279 </td><td style=\"text-align: right;\">0.840671</td></tr>\n",
              "<tr><td>train_bi_lstm_b81712a2</td><td>TERMINATED</td><td>     </td><td style=\"text-align: right;\">0.000259159</td><td style=\"text-align: right;\">   7.77303e-05</td><td style=\"text-align: right;\">          128</td><td style=\"text-align: right;\">     1</td><td style=\"text-align: right;\">         28.6686</td><td style=\"text-align: right;\">0.791579</td></tr>\n",
              "<tr><td>train_bi_lstm_cc912042</td><td>TERMINATED</td><td>     </td><td style=\"text-align: right;\">0.000220337</td><td style=\"text-align: right;\">   4.50694e-05</td><td style=\"text-align: right;\">           64</td><td style=\"text-align: right;\">     4</td><td style=\"text-align: right;\">         51.5709</td><td style=\"text-align: right;\">0.846087</td></tr>\n",
              "<tr><td>train_bi_lstm_e0fdc47c</td><td>TERMINATED</td><td>     </td><td style=\"text-align: right;\">0.000935225</td><td style=\"text-align: right;\">   3.87604e-05</td><td style=\"text-align: right;\">           64</td><td style=\"text-align: right;\">     9</td><td style=\"text-align: right;\">         88.3042</td><td style=\"text-align: right;\">0.869846</td></tr>\n",
              "<tr><td>train_bi_lstm_f553f7ca</td><td>TERMINATED</td><td>     </td><td style=\"text-align: right;\">0.000195145</td><td style=\"text-align: right;\">   2.25689e-05</td><td style=\"text-align: right;\">           64</td><td style=\"text-align: right;\">     1</td><td style=\"text-align: right;\">         28.849 </td><td style=\"text-align: right;\">0.801887</td></tr>\n",
              "<tr><td>train_bi_lstm_2daff150</td><td>TERMINATED</td><td>     </td><td style=\"text-align: right;\">0.000649391</td><td style=\"text-align: right;\">   3.58427e-05</td><td style=\"text-align: right;\">          128</td><td style=\"text-align: right;\">     9</td><td style=\"text-align: right;\">         88.8638</td><td style=\"text-align: right;\">0.867051</td></tr>\n",
              "<tr><td>train_bi_lstm_4f7600c2</td><td>TERMINATED</td><td>     </td><td style=\"text-align: right;\">5.35035e-05</td><td style=\"text-align: right;\">   2.27363e-05</td><td style=\"text-align: right;\">          128</td><td style=\"text-align: right;\">     1</td><td style=\"text-align: right;\">         28.9771</td><td style=\"text-align: right;\">0.780922</td></tr>\n",
              "<tr><td>train_bi_lstm_63fae8dc</td><td>TERMINATED</td><td>     </td><td style=\"text-align: right;\">0.000460433</td><td style=\"text-align: right;\">   1.40073e-05</td><td style=\"text-align: right;\">          128</td><td style=\"text-align: right;\">     4</td><td style=\"text-align: right;\">         51.5524</td><td style=\"text-align: right;\">0.854822</td></tr>\n",
              "<tr><td>train_bi_lstm_861995c6</td><td>TERMINATED</td><td>     </td><td style=\"text-align: right;\">0.00021858 </td><td style=\"text-align: right;\">   3.58182e-05</td><td style=\"text-align: right;\">           32</td><td style=\"text-align: right;\">     1</td><td style=\"text-align: right;\">         28.6422</td><td style=\"text-align: right;\">0.797869</td></tr>\n",
              "<tr><td>train_bi_lstm_be17deba</td><td>TERMINATED</td><td>     </td><td style=\"text-align: right;\">0.00057922 </td><td style=\"text-align: right;\">   2.14333e-05</td><td style=\"text-align: right;\">          128</td><td style=\"text-align: right;\">     1</td><td style=\"text-align: right;\">         28.9662</td><td style=\"text-align: right;\">0.681866</td></tr>\n",
              "</tbody>\n",
              "</table><br><br>"
            ],
            "text/plain": [
              "<IPython.core.display.HTML object>"
            ]
          },
          "metadata": {
            "tags": []
          }
        },
        {
          "output_type": "stream",
          "text": [
            "2020-01-08 12:43:00,235\tINFO tune.py:334 -- Returning an analysis object by default. You can call `analysis.trials` to retrieve a list of trials. This message will be removed in future versions of Tune.\n"
          ],
          "name": "stderr"
        }
      ]
    },
    {
      "cell_type": "code",
      "metadata": {
        "id": "ED7zNEkKHDDC",
        "colab_type": "code",
        "colab": {
          "base_uri": "https://localhost:8080/",
          "height": 264
        },
        "outputId": "46d0377d-d662-40ba-b431-77843c13b53f"
      },
      "source": [
        "dfs = analysis_bi.trial_dataframes\n",
        "\n",
        "# Plot by epoch\n",
        "ax = None  # This plots everything on the same plot\n",
        "for d in dfs.values():\n",
        "    ax = d.mean_accuracy.plot(ax=ax, legend=False)"
      ],
      "execution_count": 34,
      "outputs": [
        {
          "output_type": "display_data",
          "data": {
            "image/png": "[encoded data removed]",
            "text/plain": [
              "<Figure size 432x288 with 1 Axes>"
            ]
          },
          "metadata": {
            "tags": []
          }
        }
      ]
    }
  ]
}